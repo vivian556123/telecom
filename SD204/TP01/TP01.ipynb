{
 "cells": [
  {
   "cell_type": "code",
   "execution_count": 1,
   "metadata": {},
   "outputs": [],
   "source": [
    "import math # importe un package\n",
    "import numpy as np # importe un package sous un nom particulier\n",
    "from sklearn import linear_model # importe tout un module\n",
    "import scipy\n",
    "import matplotlib.pyplot as plt\n",
    "import os\n",
    "import pandas as pd\n",
    "import urllib\n",
    "import zipfile\n",
    "import sys\n",
    "import statsmodels.api as sm\n",
    "import pylab as py\n",
    "import seaborn as sns\n",
    "np.random.seed(0)"
   ]
  },
  {
   "cell_type": "markdown",
   "metadata": {},
   "source": [
    "### 1"
   ]
  },
  {
   "cell_type": "code",
   "execution_count": 117,
   "metadata": {
    "scrolled": true
   },
   "outputs": [
    {
     "name": "stdout",
     "output_type": "stream",
     "text": [
      "<class 'pandas.core.frame.DataFrame'>\n",
      "RangeIndex: 15 entries, 0 to 14\n",
      "Data columns (total 5 columns):\n",
      " #   Column    Non-Null Count  Dtype  \n",
      "---  ------    --------------  -----  \n",
      " 0   year      15 non-null     int64  \n",
      " 1   gnp       15 non-null     float64\n",
      " 2   invest    15 non-null     float64\n",
      " 3   cpi       15 non-null     float64\n",
      " 4   interest  15 non-null     float64\n",
      "dtypes: float64(4), int64(1)\n",
      "memory usage: 728.0 bytes\n",
      "None\n",
      "This dataframe is duplicated ? 0\n"
     ]
    },
    {
     "data": {
      "text/html": [
       "<div>\n",
       "<style scoped>\n",
       "    .dataframe tbody tr th:only-of-type {\n",
       "        vertical-align: middle;\n",
       "    }\n",
       "\n",
       "    .dataframe tbody tr th {\n",
       "        vertical-align: top;\n",
       "    }\n",
       "\n",
       "    .dataframe thead th {\n",
       "        text-align: right;\n",
       "    }\n",
       "</style>\n",
       "<table border=\"1\" class=\"dataframe\">\n",
       "  <thead>\n",
       "    <tr style=\"text-align: right;\">\n",
       "      <th></th>\n",
       "      <th>year</th>\n",
       "      <th>gnp</th>\n",
       "      <th>invest</th>\n",
       "      <th>cpi</th>\n",
       "      <th>interest</th>\n",
       "    </tr>\n",
       "  </thead>\n",
       "  <tbody>\n",
       "    <tr>\n",
       "      <th>0</th>\n",
       "      <td>1968</td>\n",
       "      <td>873.4</td>\n",
       "      <td>133.3</td>\n",
       "      <td>82.54</td>\n",
       "      <td>5.16</td>\n",
       "    </tr>\n",
       "    <tr>\n",
       "      <th>1</th>\n",
       "      <td>1969</td>\n",
       "      <td>944.0</td>\n",
       "      <td>149.3</td>\n",
       "      <td>86.79</td>\n",
       "      <td>5.87</td>\n",
       "    </tr>\n",
       "    <tr>\n",
       "      <th>2</th>\n",
       "      <td>1970</td>\n",
       "      <td>992.7</td>\n",
       "      <td>144.2</td>\n",
       "      <td>91.45</td>\n",
       "      <td>5.95</td>\n",
       "    </tr>\n",
       "    <tr>\n",
       "      <th>3</th>\n",
       "      <td>1971</td>\n",
       "      <td>1077.6</td>\n",
       "      <td>166.4</td>\n",
       "      <td>96.01</td>\n",
       "      <td>4.88</td>\n",
       "    </tr>\n",
       "    <tr>\n",
       "      <th>4</th>\n",
       "      <td>1972</td>\n",
       "      <td>1185.9</td>\n",
       "      <td>195.0</td>\n",
       "      <td>100.00</td>\n",
       "      <td>4.50</td>\n",
       "    </tr>\n",
       "  </tbody>\n",
       "</table>\n",
       "</div>"
      ],
      "text/plain": [
       "   year     gnp  invest     cpi  interest\n",
       "0  1968   873.4   133.3   82.54      5.16\n",
       "1  1969   944.0   149.3   86.79      5.87\n",
       "2  1970   992.7   144.2   91.45      5.95\n",
       "3  1971  1077.6   166.4   96.01      4.88\n",
       "4  1972  1185.9   195.0  100.00      4.50"
      ]
     },
     "execution_count": 117,
     "metadata": {},
     "output_type": "execute_result"
    }
   ],
   "source": [
    "df=pd.read_csv('invest.txt',sep = ' ')\n",
    "print(df.info())\n",
    "print(\"This dataframe is duplicated ? {}\".format(df.duplicated().sum()))\n",
    "df.head(5)"
   ]
  },
  {
   "cell_type": "code",
   "execution_count": null,
   "metadata": {},
   "outputs": [],
   "source": []
  },
  {
   "cell_type": "markdown",
   "metadata": {},
   "source": [
    "### 2"
   ]
  },
  {
   "cell_type": "code",
   "execution_count": 11,
   "metadata": {},
   "outputs": [
    {
     "data": {
      "image/png": "[encoded data removed]",
      "text/plain": [
       "<Figure size 432x288 with 1 Axes>"
      ]
     },
     "metadata": {
      "needs_background": "light"
     },
     "output_type": "display_data"
    }
   ],
   "source": [
    "plt.plot(df['gnp'],df['invest'])\n",
    "plt.xlabel('gnp')\n",
    "plt.ylabel('invest')\n",
    "plt.show()"
   ]
  },
  {
   "cell_type": "code",
   "execution_count": 132,
   "metadata": {
    "scrolled": true
   },
   "outputs": [
    {
     "data": {
      "image/png": "[encoded data removed]",
      "text/plain": [
       "<Figure size 432x288 with 1 Axes>"
      ]
     },
     "metadata": {
      "needs_background": "light"
     },
     "output_type": "display_data"
    }
   ],
   "source": [
    "df_log = df.copy()\n",
    "df_log['gnp'] = np.log(df['gnp'])\n",
    "df_log['invest'] = np.log(df['invest'])\n",
    "\n",
    "plt.plot(df_log['gnp'],df_log['invest'])\n",
    "plt.xlabel('gnp')\n",
    "plt.ylabel('invest')\n",
    "plt.title('logarithm')\n",
    "plt.show()\n",
    "\n",
    "x = df_log['gnp']\n",
    "y = df_log['invest']\n",
    "xm = np.mean(x)\n",
    "ym = np.mean(y)"
   ]
  },
  {
   "cell_type": "markdown",
   "metadata": {},
   "source": [
    "### 3 \n",
    "For the linear regression of Investment on GNP, estimate the intercept and the slope and their\n",
    "standard deviations, as well as the determination coefficient for the ordinary least squares. Output\n",
    "them in a readable form."
   ]
  },
  {
   "cell_type": "code",
   "execution_count": 49,
   "metadata": {},
   "outputs": [],
   "source": [
    "def slope_intercept(x,y):\n",
    "    xm = np.mean(x)\n",
    "    ym = np.mean(y)\n",
    "    n = len(x)\n",
    "    slope = np.sum((x - xm)*(y - ym)) / np.sum((x - xm)**2)\n",
    "    intercept = ym - slope*xm\n",
    "    sigma2 = 1/(n-2)* np.sum((y - (slope*x + intercept))**2)\n",
    "    var_slope = sigma2 / np.sum((x - xm)**2)\n",
    "    var_intercept = sigma2*(1/n + xm**2 / np.sum((x - xm)**2))\n",
    "    R2 = np.sum(((slope*x + intercept) - ym)**2)/np.sum((y - ym)**2)\n",
    "    return slope,intercept,np.sqrt(var_slope),np.sqrt(var_intercept),R2,np.sqrt(sigma2)"
   ]
  },
  {
   "cell_type": "code",
   "execution_count": 50,
   "metadata": {},
   "outputs": [
    {
     "name": "stdout",
     "output_type": "stream",
     "text": [
      "1.0152814015988707 -1.9635913352301815\n",
      "0.05538306035485282 0.40954727166230825 0.9627572956057852\n"
     ]
    },
    {
     "data": {
      "image/png": "[encoded data removed]",
      "text/plain": [
       "<Figure size 432x288 with 1 Axes>"
      ]
     },
     "metadata": {
      "needs_background": "light"
     },
     "output_type": "display_data"
    }
   ],
   "source": [
    "\n",
    "slope,intercept,std_dev_slope,std_dev_intercept,deter_coff,sigma= slope_intercept(x,y)\n",
    "print(slope,intercept)\n",
    "print(std_dev_slope,std_dev_intercept,deter_coff)\n",
    "\n",
    "plt.plot(df_log['gnp'],df_log['invest'],label ='real')\n",
    "plt.plot(range(6,9),range(6,9)*slope + intercept,label = 'estimator')\n",
    "plt.xlabel('gnp')\n",
    "plt.ylabel('invest')\n",
    "plt.title('logarithm')\n",
    "plt.legend()\n",
    "plt.show()"
   ]
  },
  {
   "cell_type": "markdown",
   "metadata": {},
   "source": [
    "### 4. \n",
    "Test the significance of the slope using the Student-t test. Report the value of the test statistic and\n",
    "the p-value."
   ]
  },
  {
   "cell_type": "code",
   "execution_count": 104,
   "metadata": {},
   "outputs": [
    {
     "name": "stdout",
     "output_type": "stream",
     "text": [
      "p-value of slope 1.1363709973011282e-10\n",
      "Reject H0\n",
      "18.33198445686667\n"
     ]
    }
   ],
   "source": [
    "#slope\n",
    "n = len(x)\n",
    "p = 1\n",
    "alpha = 0.05\n",
    "x_obs  = (slope - 0)/std_dev_slope\n",
    "p = 2* (1 - scipy.stats.t.cdf(x_obs,n-p-1))\n",
    "print(\"p-value of slope\",p)\n",
    "if p < alpha:\n",
    "    print(\"Reject H0\")\n",
    "print(x_obs)"
   ]
  },
  {
   "cell_type": "markdown",
   "metadata": {},
   "source": [
    "### 5. \n",
    "For the GNP value 1000, estimate the necessary Investment, provide confidence and prediction\n",
    "intervals for the 90% level."
   ]
  },
  {
   "cell_type": "code",
   "execution_count": 107,
   "metadata": {
    "scrolled": true
   },
   "outputs": [
    {
     "name": "stdout",
     "output_type": "stream",
     "text": [
      "1.7709333959867988\n",
      "[4.9882228459711095, 5.111225406662492]\n",
      "[4.88282002343868, 5.216628229194922]\n",
      "5.049724126316801\n",
      "155.9794279310548\n"
     ]
    }
   ],
   "source": [
    "alpha = 0.1\n",
    "n = len(x)\n",
    "quantile = scipy.stats.t.ppf(1-alpha/2,n-2)\n",
    "print(quantile)\n",
    "\n",
    "def CI(x_test):\n",
    "    CI1 = intercept+slope*x_test-quantile*sigma*np.sqrt(1/n + (x_test-xm)**2/np.sum((x-xm)**2))\n",
    "    CI2 = intercept+slope*x_test+quantile*sigma*np.sqrt(1/n + (x_test-xm)**2/np.sum((x-xm)**2))\n",
    "    return [CI1,CI2]\n",
    "\n",
    "def PI(x_test):\n",
    "    PI1 = intercept+slope*x_test-quantile*sigma*np.sqrt(1+1/n + (x_test-xm)**2/np.sum((x-xm)**2))\n",
    "    PI2 = intercept+slope*x_test+quantile*sigma*np.sqrt(1+1/n + (x_test-xm)**2/np.sum((x-xm)**2))\n",
    "    return [PI1,PI2]\n",
    "\n",
    "x_test = np.log(1000)\n",
    "print(CI(x_test))\n",
    "print(PI(x_test))\n",
    "print(intercept + slope*x_test)\n",
    "print(np.exp(intercept + slope*x_test))"
   ]
  },
  {
   "cell_type": "code",
   "execution_count": 87,
   "metadata": {},
   "outputs": [],
   "source": [
    "x_test = np.log(1000)\n",
    "new_x = np.append(x.to_numpy(),x_test)\n",
    "new_y = np.append(y.to_numpy(),intercept + slope*x_test)"
   ]
  },
  {
   "cell_type": "code",
   "execution_count": 115,
   "metadata": {},
   "outputs": [
    {
     "data": {
      "image/png": "[encoded data removed]",
      "text/plain": [
       "<Figure size 432x288 with 1 Axes>"
      ]
     },
     "metadata": {
      "needs_background": "light"
     },
     "output_type": "display_data"
    }
   ],
   "source": [
    "ci1 = []\n",
    "ci2 = []\n",
    "pi1 = []\n",
    "pi2 = []\n",
    "list_point = np.linspace(6.5,8.5,num = 50)\n",
    "for i in list_point:\n",
    "    ci1.append(CI(i)[0])\n",
    "    ci2.append(CI(i)[1])\n",
    "    pi1.append(PI(i)[0])\n",
    "    pi2.append(PI(i)[1])\n",
    "\n",
    "\n",
    "\n",
    "plt.scatter(new_x,new_y)\n",
    "plt.plot(list_point, ci1,'g')\n",
    "plt.plot(list_point, ci2,'g')\n",
    "plt.plot(list_point, pi1,'r--')\n",
    "plt.plot(list_point, pi2,'r--')\n",
    "\n",
    "plt.show()\n"
   ]
  },
  {
   "cell_type": "markdown",
   "metadata": {},
   "source": [
    "### 7. \n",
    "Estimate the intercept, the slope, and the determination coefficient and predict the necessary Investment for the GNP value 1000 using existing functionality. The class LinearRegression() from\n",
    "sklearn.linear_model is suggested but not obligatory ; any other available implementation of\n",
    "the linear regression can be used instead. Report the estimated values and make sure that those\n",
    "calculated ‘by hand’ (Steps 3 and 5) coincide with the ones obtained using existing implementation."
   ]
  },
  {
   "cell_type": "code",
   "execution_count": 145,
   "metadata": {},
   "outputs": [
    {
     "name": "stdout",
     "output_type": "stream",
     "text": [
      "[-1.96359134]\n",
      "[[1.0152814]]\n",
      "-1.9635913352301815\n",
      "1.0152814015988707\n"
     ]
    }
   ],
   "source": [
    "x_numpy = np.reshape(x.to_numpy(),(len(x),1))\n",
    "y_numpy = np.reshape(y.to_numpy(),(len(x),1))\n",
    "reg = linear_model.LinearRegression().fit(x_numpy,y_numpy)\n",
    "print(reg.intercept_)\n",
    "print(reg.coef_)\n",
    "\n",
    "\n",
    "print(intercept)\n",
    "print(slope)"
   ]
  },
  {
   "cell_type": "markdown",
   "metadata": {},
   "source": [
    "### 8. \n",
    "On a plot with logarithmic axes (GNP as abscissa and Investment as ordinate), plot the data, the\n",
    "regression line and the predicted point (in a different color). The graphic should coincide with the\n",
    "corresponding elements from the one in Step 6."
   ]
  },
  {
   "cell_type": "code",
   "execution_count": 149,
   "metadata": {
    "scrolled": true
   },
   "outputs": [
    {
     "data": {
      "text/plain": [
       "array([[5.04972413]])"
      ]
     },
     "execution_count": 149,
     "metadata": {},
     "output_type": "execute_result"
    }
   ],
   "source": [
    "reg.predict(np.reshape(x_test,(1,1)))"
   ]
  },
  {
   "cell_type": "markdown",
   "metadata": {},
   "source": [
    "Further, consider an additional explanatory variable, namely Interest (column “interest”, without a\n",
    "logarithmic transform). In Steps 9–12, all the calculations should be done with elementary arithmetic and not involving existing libraries for running linear regression. (Use function inv from\n",
    "numpy.linalg for inversion of a matrix (“ two-dimensional numpy-array) and function eig from\n",
    "the same package for calculating its eigenvalues.)"
   ]
  },
  {
   "cell_type": "markdown",
   "metadata": {},
   "source": [
    "###  9 \n",
    "For the linear regression of Investment on GNP and Interest, compute the associated Gram matrix.\n",
    "Is it of full rank ?"
   ]
  },
  {
   "cell_type": "code",
   "execution_count": 210,
   "metadata": {},
   "outputs": [
    {
     "name": "stdout",
     "output_type": "stream",
     "text": [
      "[[1.0000e+00 5.1600e+00 8.7340e+02]\n",
      " [1.0000e+00 5.8700e+00 9.4400e+02]\n",
      " [1.0000e+00 5.9500e+00 9.9270e+02]\n",
      " [1.0000e+00 4.8800e+00 1.0776e+03]\n",
      " [1.0000e+00 4.5000e+00 1.1859e+03]\n",
      " [1.0000e+00 6.4400e+00 1.3264e+03]\n",
      " [1.0000e+00 7.8300e+00 1.4342e+03]\n",
      " [1.0000e+00 6.2500e+00 1.5492e+03]\n",
      " [1.0000e+00 5.5000e+00 1.7180e+03]\n",
      " [1.0000e+00 5.4600e+00 1.9183e+03]\n",
      " [1.0000e+00 7.4600e+00 2.1639e+03]\n",
      " [1.0000e+00 1.0280e+01 2.4178e+03]\n",
      " [1.0000e+00 1.1770e+01 2.6331e+03]\n",
      " [1.0000e+00 1.3420e+01 2.9377e+03]\n",
      " [1.0000e+00 1.1020e+01 3.0575e+03]]\n",
      "(3, 3)\n",
      "3\n"
     ]
    }
   ],
   "source": [
    "x = df[['interest','gnp']]\n",
    "y = df['invest']\n",
    "n = len(x)\n",
    "p = 2\n",
    "x = x.to_numpy()\n",
    "y = y.to_numpy()\n",
    "\n",
    "x = np.hstack((np.ones((n,1)),x))\n",
    "print(x)\n",
    "Gram = x.T@x/n\n",
    "print(Gram.shape)\n",
    "print(np.linalg.matrix_rank(Gram))"
   ]
  },
  {
   "cell_type": "markdown",
   "metadata": {},
   "source": [
    "###  10\n",
    "For the linear regression of Investment on GNP and Interest, estimate the three regression coefficients and their standard deviations, as well as the determination coefficient for the ordinary least\n",
    "squares. Additionally, test significance of each coefficient using the Student-t test. Report the regression coefficients, corresponding to them p-values, and the determination coefficient in a readable\n",
    "form. Discuss significance of the estimated regression coefficients."
   ]
  },
  {
   "cell_type": "code",
   "execution_count": 217,
   "metadata": {},
   "outputs": [
    {
     "name": "stdout",
     "output_type": "stream",
     "text": [
      "[ 5.76465234 -0.46064225  0.15650676]\n",
      "864.7318061149749\n",
      "[[ 4.91841415e+02 -5.48954084e+01 -1.43399168e-02]\n",
      " [-5.48954084e+01  3.44176503e+01 -1.15293656e-01]\n",
      " [-1.43399168e-02 -1.15293656e-01  4.99577826e-04]]\n",
      "p_value of parameter  0 :  0.7993220018626492\n",
      "p_value of parameter  1 :  1.0612904283366116\n",
      "p_value of parameter  2 :  1.4300363522457005e-05\n"
     ]
    }
   ],
   "source": [
    "coefficient = np.linalg.inv(x.T@x)@x.T@y\n",
    "print(coefficient)\n",
    "\n",
    "sigma2 = 1/(n-p-1)*np.sum((y - (coefficient[0]*x[:,0] +coefficient[1]*x[:,1]+coefficient[2]*x[:,2]))**2)\n",
    "print(sigma2)\n",
    "C = sigma2* np.linalg.inv(x.T@x)\n",
    "print(C)\n",
    "\n",
    "def p_value(x_obs,n,p):\n",
    "    p_value = 2* (1 - scipy.stats.t.cdf(x_obs,n-p-1))\n",
    "    return p_value\n",
    "\n",
    "\n",
    "for i in range(len(coefficient)):\n",
    "    x_obs = coefficient[i]/np.sqrt(C[i,i])\n",
    "    print(\"p_value of parameter \",i,\": \",p_value(x_obs,n,p))"
   ]
  },
  {
   "cell_type": "code",
   "execution_count": 221,
   "metadata": {},
   "outputs": [
    {
     "data": {
      "text/plain": [
       "0.946389747506162"
      ]
     },
     "execution_count": 221,
     "metadata": {},
     "output_type": "execute_result"
    }
   ],
   "source": [
    "def R2(coefficient, y):\n",
    "    R2 = np.sum(((x@coefficient) - np.mean(y)*np.ones(n))**2)/np.sum((y - np.mean(y)*np.ones(n))**2)\n",
    "    return R2\n",
    "R2(coefficient,y)"
   ]
  },
  {
   "cell_type": "code",
   "execution_count": null,
   "metadata": {},
   "outputs": [],
   "source": []
  },
  {
   "cell_type": "code",
   "execution_count": null,
   "metadata": {},
   "outputs": [],
   "source": []
  }
 ],
 "metadata": {
  "kernelspec": {
   "display_name": "Python 3",
   "language": "python",
   "name": "python3"
  },
  "language_info": {
   "codemirror_mode": {
    "name": "ipython",
    "version": 3
   },
   "file_extension": ".py",
   "mimetype": "text/x-python",
   "name": "python",
   "nbconvert_exporter": "python",
   "pygments_lexer": "ipython3",
   "version": "3.8.6"
  }
 },
 "nbformat": 4,
 "nbformat_minor": 4
}
