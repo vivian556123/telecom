{
 "cells": [
  {
   "cell_type": "markdown",
   "metadata": {},
   "source": [
    "# K-Means Clustering with scikit-learn\n",
    "\n",
    "We are going to use the implementation for k-means from scikit-learn, see [here](http://scikit-learn.org/stable/modules/generated/sklearn.cluster.KMeans.html#sklearn.cluster.KMeans.fit) for a documentation. "
   ]
  },
  {
   "cell_type": "code",
   "execution_count": 1,
   "metadata": {},
   "outputs": [],
   "source": [
    "from sklearn.cluster import KMeans"
   ]
  },
  {
   "cell_type": "markdown",
   "metadata": {},
   "source": [
    "When using k-means from scikit-learn, we recommend you that your data be stored as a numpy array. Create it or convert your data into a numpy array as follows."
   ]
  },
  {
   "cell_type": "code",
   "execution_count": 5,
   "metadata": {},
   "outputs": [],
   "source": [
    "import numpy as np\n",
    "\n",
    "#create a numpy array\n",
    "X = np.array([[1, 2], [1, 4], [1, 0],[4, 2], [4, 4], [4, 0]])\n",
    "\n",
    "#convert a list to a numpy array\n",
    "a=[]\n",
    "for i in range(0,10):\n",
    "    p=[i,2*i]\n",
    "    a.append(p)\n",
    "\n",
    "Y=np.array(a, dtype='float32')\n"
   ]
  },
  {
   "cell_type": "markdown",
   "metadata": {},
   "source": [
    "The following execute the k-means algorithm on the points in X. Make sure you understand the parameters see [here](http://scikit-learn.org/stable/modules/generated/sklearn.cluster.KMeans.html#sklearn.cluster.KMeans.fit)"
   ]
  },
  {
   "cell_type": "code",
   "execution_count": 6,
   "metadata": {},
   "outputs": [],
   "source": [
    "kmeans = KMeans(init='random', n_clusters=2, max_iter=10000, n_init=100).fit(X)"
   ]
  },
  {
   "cell_type": "markdown",
   "metadata": {},
   "source": [
    "The following code shows for each data points its cluster (0 or 1)"
   ]
  },
  {
   "cell_type": "code",
   "execution_count": 7,
   "metadata": {},
   "outputs": [
    {
     "data": {
      "text/plain": [
       "array([1, 1, 1, 0, 0, 0])"
      ]
     },
     "execution_count": 7,
     "metadata": {},
     "output_type": "execute_result"
    }
   ],
   "source": [
    "kmeans.labels_"
   ]
  },
  {
   "cell_type": "markdown",
   "metadata": {},
   "source": [
    "The following code computes the clusters for the points [0,0] and [4,4]. In this case, [0,0] is placed in cluster labeled 0 and [4,4] in the cluster labeled 1."
   ]
  },
  {
   "cell_type": "code",
   "execution_count": 3,
   "metadata": {},
   "outputs": [
    {
     "data": {
      "text/plain": [
       "array([0, 1], dtype=int32)"
      ]
     },
     "execution_count": 3,
     "metadata": {},
     "output_type": "execute_result"
    }
   ],
   "source": [
    "kmeans.predict([[0, 0], [4, 4]])"
   ]
  },
  {
   "cell_type": "markdown",
   "metadata": {},
   "source": [
    "The following code shows the centroids (in this case called centers ) of the two clusters."
   ]
  },
  {
   "cell_type": "code",
   "execution_count": 4,
   "metadata": {},
   "outputs": [
    {
     "data": {
      "text/plain": [
       "array([[1., 2.],\n",
       "       [4., 2.]])"
      ]
     },
     "execution_count": 4,
     "metadata": {},
     "output_type": "execute_result"
    }
   ],
   "source": [
    "kmeans.cluster_centers_"
   ]
  },
  {
   "cell_type": "code",
   "execution_count": 8,
   "metadata": {},
   "outputs": [],
   "source": [
    "import math # importe un package\n",
    "import numpy as np # importe un package sous un nom particulier\n",
    "from sklearn import linear_model # importe tout un module\n",
    "import scipy\n",
    "import matplotlib.pyplot as plt\n",
    "import os\n",
    "import pandas as pd\n",
    "import urllib\n",
    "import zipfile\n",
    "import sys\n",
    "import statsmodels.api as sm\n",
    "import pylab as py\n",
    "import seaborn as sns\n",
    "np.random.seed(0)"
   ]
  },
  {
   "cell_type": "code",
   "execution_count": 24,
   "metadata": {
    "scrolled": true
   },
   "outputs": [
    {
     "name": "stdout",
     "output_type": "stream",
     "text": [
      "<class 'pandas.core.frame.DataFrame'>\n",
      "RangeIndex: 30 entries, 0 to 29\n",
      "Data columns (total 26 columns):\n",
      " #   Column     Non-Null Count  Dtype  \n",
      "---  ------     --------------  -----  \n",
      " 0   StockName  30 non-null     object \n",
      " 1   1/28/2011  30 non-null     float64\n",
      " 2   4/29/2011  30 non-null     float64\n",
      " 3   5/20/2011  30 non-null     float64\n",
      " 4   4/1/2011   30 non-null     float64\n",
      " 5   5/27/2011  30 non-null     float64\n",
      " 6   6/17/2011  30 non-null     float64\n",
      " 7   4/15/2011  30 non-null     float64\n",
      " 8   2/18/2011  30 non-null     float64\n",
      " 9   3/18/2011  30 non-null     float64\n",
      " 10  3/11/2011  30 non-null     float64\n",
      " 11  6/24/2011  30 non-null     float64\n",
      " 12  2/11/2011  30 non-null     float64\n",
      " 13  6/10/2011  30 non-null     float64\n",
      " 14  5/6/2011   30 non-null     float64\n",
      " 15  6/3/2011   30 non-null     float64\n",
      " 16  1/14/2011  30 non-null     float64\n",
      " 17  4/8/2011   30 non-null     float64\n",
      " 18  4/21/2011  30 non-null     float64\n",
      " 19  3/4/2011   30 non-null     float64\n",
      " 20  3/25/2011  30 non-null     float64\n",
      " 21  2/4/2011   30 non-null     float64\n",
      " 22  1/7/2011   30 non-null     float64\n",
      " 23  2/25/2011  30 non-null     float64\n",
      " 24  5/13/2011  30 non-null     float64\n",
      " 25  1/21/2011  30 non-null     float64\n",
      "dtypes: float64(25), object(1)\n",
      "memory usage: 6.2+ KB\n",
      "None\n",
      "This dataframe is duplicated ? 0\n"
     ]
    }
   ],
   "source": [
    "df=pd.read_csv('data.csv')\n",
    "print(df.info())\n",
    "print(\"This dataframe is duplicated ? {}\".format(df.duplicated().sum()))\n",
    "df.head(5)\n",
    "stock_data = df.values[:,1:]"
   ]
  },
  {
   "cell_type": "markdown",
   "metadata": {},
   "source": [
    "1. You should run the k-means algorithm on the stock data. Compute the\n",
    "sum of squared errors (SSE) for the clustering you obtained, while selecting\n",
    "the initial centroids randomly and using the default values for the other\n",
    "parameters."
   ]
  },
  {
   "cell_type": "code",
   "execution_count": 29,
   "metadata": {},
   "outputs": [
    {
     "name": "stdout",
     "output_type": "stream",
     "text": [
      "Cluster centers: [[ -4.5614      -0.324675    -2.60723     -0.372578     1.91805\n",
      "   -1.92837     -5.03704     -0.13541     -1.54278      1.41044\n",
      "   -0.661001     1.79187     -3.39893     -0.404531    -4.97051\n",
      "    7.62174      0.597015    -2.22399     -1.05116     -6.05634\n",
      "    4.23049      2.88809     -1.25174     -2.85016     -5.50398   ]\n",
      " [ -0.702753     1.08158463   0.67807963   1.65917138  -0.37963537\n",
      "    1.21951158   2.07246088   0.67314484  -2.21199988   0.24327275\n",
      "   -0.21860925   0.8146325   -1.14316638  -0.45871061  -2.317355\n",
      "    1.55720862  -0.09702186   0.76830902   0.12406675   1.82377287\n",
      "    0.64209775  -1.82141362  -1.19991588   1.61432225   0.70476113]\n",
      " [ -0.981997     5.11278     -0.71977     -0.195886     2.14739\n",
      "    0.896414    -0.0973236    1.96599      3.75321     -0.86558\n",
      "   -0.049776    -2.28334     -3.41018     -2.79092     -0.761905\n",
      "    0.658617    -0.437956    -2.60827      3.7467       0.147638\n",
      "    6.10225      3.61582     -0.105932     1.89966      0.0544959 ]\n",
      " [ -0.188144     1.94321      1.106063     1.391165     2.5305\n",
      "   -1.047326    -2.56036      3.210255     1.3334      -4.17892\n",
      "   -1.68436     -0.804075    -1.320005    -6.084625    -2.98626\n",
      "    2.837075     1.5281       3.470245     0.2586175    2.47451\n",
      "    3.838915     1.0119325    1.663859    -1.705465     1.2167845 ]\n",
      " [  0.431862     3.48494     -1.72414     -1.84332      0.304692\n",
      "   -1.12285     -3.83964      0.0530786   -3.76193     -2.23312\n",
      "   -0.0669344  -15.4229      -5.73566      0.285551    -3.49608\n",
      "    1.2894       3.76249      0.35545     -1.18153     -0.346021\n",
      "    5.35117      2.54279     -0.480513    -3.70793     -2.35627   ]\n",
      " [ -0.36647417   3.67248583  -0.38579317   0.75229775   0.73016459\n",
      "   -0.12772985  -1.15752068   1.36212557  -1.27125475  -1.30604243\n",
      "   -0.32798386   3.15200269  -1.582986    -1.43570333  -3.89397917\n",
      "    2.00470867  -0.45075199   3.74848542  -0.48436088   1.72276475\n",
      "    1.95105458   0.3654053   -1.37307421  -1.19901742   0.56355643]\n",
      " [ -0.61753233   0.02739033  -5.57781667  -0.70376367   3.13617333\n",
      "   -0.70745467  -4.25449333  -0.231059    -0.5598676   -2.58889333\n",
      "    1.55711667   0.06722467  -2.30435     -0.22326267  -4.0756\n",
      "   -0.32511667   1.80980367   2.65983333  -1.72861667   2.56894\n",
      "    3.46053667   4.18372667  -4.30174333  -1.421917    -0.201813  ]\n",
      " [ -0.278225     4.29593     -0.1476115    2.189915    -0.7360585\n",
      "    0.9112335    1.3646355    0.244896    -0.7677905   -0.7965805\n",
      "   -0.129075     0.3212955   -0.8843      -1.438291    -2.517125\n",
      "   -5.55713     -0.556229    -1.151473     1.36313655   1.60714\n",
      "    0.339175     1.2802      -1.2274765    1.31629595  -0.8571765 ]]\n",
      "Cluster SSE: 1693.4992889151672\n"
     ]
    }
   ],
   "source": [
    "kmeans = KMeans(init = 'random', n_clusters=8).fit(stock_data)\n",
    "print(\"Cluster centers: {}\".format(kmeans.cluster_centers_))\n",
    "print(\"Cluster SSE: {}\".format(kmeans.inertia_))"
   ]
  },
  {
   "cell_type": "markdown",
   "metadata": {},
   "source": [
    "2. You should then try to decrease the SSE as much as possible (while keeping\n",
    "k = 8) by changing some of the parameters accordingly. To this end, select\n",
    "two parameters that you think should impact the results the most. For\n",
    "each parameter try to understand: a) how do you expect that changing\n",
    "that parameter would affect the results (increasing its value means better\n",
    "or worse results) b) whether increasing or decreasing the value of the\n",
    "parameter should always improve the results or not necessarily"
   ]
  },
  {
   "cell_type": "code",
   "execution_count": 60,
   "metadata": {},
   "outputs": [],
   "source": [
    "diff = []"
   ]
  },
  {
   "cell_type": "code",
   "execution_count": 71,
   "metadata": {},
   "outputs": [
    {
     "data": {
      "image/png": "[encoded data removed]",
      "text/plain": [
       "<Figure size 432x288 with 1 Axes>"
      ]
     },
     "metadata": {
      "needs_background": "light"
     },
     "output_type": "display_data"
    },
    {
     "name": "stdout",
     "output_type": "stream",
     "text": [
      "diff = 76.16750478893823\n"
     ]
    },
    {
     "data": {
      "image/png": "[encoded data removed]",
      "text/plain": [
       "<Figure size 432x288 with 1 Axes>"
      ]
     },
     "metadata": {
      "needs_background": "light"
     },
     "output_type": "display_data"
    },
    {
     "name": "stdout",
     "output_type": "stream",
     "text": [
      "diff = 123.71229700790946\n"
     ]
    },
    {
     "data": {
      "image/png": "[encoded data removed]",
      "text/plain": [
       "<Figure size 432x288 with 1 Axes>"
      ]
     },
     "metadata": {
      "needs_background": "light"
     },
     "output_type": "display_data"
    },
    {
     "name": "stdout",
     "output_type": "stream",
     "text": [
      "diff = 52.42272948187406\n"
     ]
    },
    {
     "data": {
      "image/png": "[encoded data removed]",
      "text/plain": [
       "<Figure size 432x288 with 1 Axes>"
      ]
     },
     "metadata": {
      "needs_background": "light"
     },
     "output_type": "display_data"
    },
    {
     "name": "stdout",
     "output_type": "stream",
     "text": [
      "diff = 26.946380103474894\n"
     ]
    },
    {
     "data": {
      "image/png": "[encoded data removed]",
      "text/plain": [
       "<Figure size 432x288 with 1 Axes>"
      ]
     },
     "metadata": {
      "needs_background": "light"
     },
     "output_type": "display_data"
    },
    {
     "name": "stdout",
     "output_type": "stream",
     "text": [
      "diff = 13.956195680642622\n"
     ]
    }
   ],
   "source": [
    "init_list = ['random','k-means++']\n",
    "n_init_list = [5,10,15,20,30,50,100]\n",
    "#Number of time the k-means algorithm will be run with different centroid seeds. The final results will be the best output of n_init consecutive runs in terms of inertia.\n",
    "max_iter_list= [100,300,500,700,1000,2000,5000,10000]\n",
    "#Maximum number of iterations of the k-means algorithm for a single run.[100,500,700,1000,2000]\n",
    "tol_list = [1e-3,1e-4,1e-5]\n",
    "#Relative tolerance with regards to Frobenius norm of the difference in the cluster centers of two consecutive iterations to declare convergence.\n",
    "algorithm_list= ['auto', 'full', 'elkan']\n",
    "\n",
    "init_mode = init_list[1]\n",
    "n_init_value = n_init_list[1]\n",
    "max_iter_value = max_iter_list[1]\n",
    "algo = algorithm_list[1]\n",
    "tol_value = tol_list[1]\n",
    "\n",
    "sse = []\n",
    "for init_mode in init_list:\n",
    "#for n_init_value in n_init_list:\n",
    "#for max_iter_value in max_iter_list:\n",
    "#for tol_value in tol_list: \n",
    "#for algo in algorithm_list:\n",
    "        kmeans = KMeans(init = init_mode, n_clusters=8,n_init = n_init_value, max_iter = max_iter_value, tol = tol_value, algorithm = algo).fit(stock_data)\n",
    "        sse.append(kmeans.inertia_)\n",
    "        #print(\"Cluster SSE: {} of init_mode = {}, n_init = {}， max_iter = {}, tol = {}, algorithm = {}\".format(kmeans.inertia_,init_mode, n_init_value,max_iter_value,tol_value,algo))\n",
    "plt.plot(range(len(init_list)),sse,label = \"init_mode\")\n",
    "plt.legend()\n",
    "plt.show()\n",
    "print(\"diff = {}\".format(np.max(sse)-np.mean(sse)))\n",
    "\n",
    "sse = []\n",
    "init_mode = init_list[0]\n",
    "for n_init_value in n_init_list:\n",
    "    kmeans = KMeans(init = init_mode, n_clusters=8,n_init = n_init_value, max_iter = max_iter_value, tol = tol_value, algorithm = algo).fit(stock_data)\n",
    "    sse.append(kmeans.inertia_)\n",
    "plt.plot(n_init_list,sse,label = \"n_init_value\")\n",
    "plt.legend()\n",
    "plt.show()\n",
    "print(\"diff = {}\".format(np.max(sse)-np.mean(sse)))\n",
    "n_init_value = n_init_list[-1]\n",
    "\n",
    "sse = []\n",
    "for max_iter_value in max_iter_list:\n",
    "    kmeans = KMeans(init = init_mode, n_clusters=8,n_init = n_init_value, max_iter = max_iter_value, tol = tol_value, algorithm = algo).fit(stock_data)\n",
    "    sse.append(kmeans.inertia_)\n",
    "plt.plot(max_iter_list,sse,label = \"max_iter\")\n",
    "plt.legend()\n",
    "plt.show()\n",
    "print(\"diff = {}\".format(np.max(sse)-np.mean(sse)))\n",
    "max_iter_value = max_iter_list[-1]\n",
    "\n",
    "sse = []\n",
    "for tol_value in tol_list: \n",
    "    kmeans = KMeans(init = init_mode, n_clusters=8,n_init = n_init_value, max_iter = max_iter_value, tol = tol_value, algorithm = algo).fit(stock_data)\n",
    "    sse.append(kmeans.inertia_)\n",
    "plt.plot(tol_list,sse,label = \"tol\")\n",
    "plt.legend()\n",
    "plt.show()\n",
    "print(\"diff = {}\".format(np.max(sse)-np.mean(sse)))\n",
    "tol_value = tol_list[-1]\n",
    "\n",
    "sse = []\n",
    "for algo in algorithm_list: \n",
    "    kmeans = KMeans(init = init_mode, n_clusters=8,n_init = n_init_value, max_iter = max_iter_value, tol = tol_value, algorithm = algo).fit(stock_data)\n",
    "    sse.append(kmeans.inertia_)\n",
    "plt.plot(algorithm_list,sse,label = \"algo\")\n",
    "plt.legend()\n",
    "plt.show()\n",
    "print(\"diff = {}\".format(np.max(sse)-np.mean(sse)))\n",
    "algo = algorithm_list[]"
   ]
  },
  {
   "cell_type": "markdown",
   "metadata": {},
   "source": [
    "difference of init_mode = Kmeans++好\n",
    "max_iteration 越大不一定越好\n",
    "\n"
   ]
  },
  {
   "cell_type": "code",
   "execution_count": 115,
   "metadata": {},
   "outputs": [
    {
     "name": "stdout",
     "output_type": "stream",
     "text": [
      "1613.7703895240059\n"
     ]
    }
   ],
   "source": [
    "kmeans = KMeans(init = init_mode, n_clusters=8,n_init = n_init_value, max_iter = max_iter_list[0], tol = tol_value, algorithm = algo).fit(stock_data)\n",
    "print(kmeans.inertia_)"
   ]
  },
  {
   "cell_type": "markdown",
   "metadata": {},
   "source": [
    "3. Then look at the clustering you obtained and try to label each cluster\n",
    "with a topic. For example: cluster of technology stocks, oil stocks, etc.\n",
    "Don’t expect your clustering to be perfect. In particular, you might have different kinds of stocks in a given cluster, while you might not be able to\n",
    "label all clusters. It is fine to describe a cluster as a technology cluster if\n",
    "most of the stocks deal with technology, for example."
   ]
  },
  {
   "cell_type": "code",
   "execution_count": 117,
   "metadata": {},
   "outputs": [],
   "source": [
    "labels = kmeans.labels_\n",
    "centers = kmeans.cluster_centers_\n",
    "X = kmeans.fit_transform(stock_data)\n",
    "colors = ['b','g','r','k','c','m','y','#e24fff']"
   ]
  },
  {
   "cell_type": "code",
   "execution_count": 118,
   "metadata": {},
   "outputs": [
    {
     "name": "stdout",
     "output_type": "stream",
     "text": [
      "American Express 1\n",
      "Boeing 4\n",
      "Chevron 4\n",
      "Cisco Systems 7\n",
      "DuPont 3\n",
      "Kraft 1\n",
      "Caterpillar 3\n",
      "Bank of America 5\n",
      "Verizon 1\n",
      "Microsoft 2\n",
      "IBM 2\n",
      "The Home Depot 2\n",
      "Walt Disney 4\n",
      "Procter & Gamble 1\n",
      "Alcoa 0\n",
      "Intel 2\n",
      "Hewlett-Packard 6\n",
      "Wal-Mart 2\n",
      "General Electric 2\n",
      "AT&T 1\n",
      "Merck 1\n",
      "Pfizer 4\n",
      "United Technologies 2\n",
      "ExxonMobil 4\n",
      "Travelers 2\n",
      "JPMorgan Chase 5\n",
      "McDonalds 1\n",
      "Coca-Cola 1\n",
      "3M 2\n",
      "Johnson & Johnson 2\n"
     ]
    }
   ],
   "source": [
    "for i in range(30):\n",
    "    print(df.values[i,0],labels[i])"
   ]
  },
  {
   "cell_type": "code",
   "execution_count": 144,
   "metadata": {},
   "outputs": [
    {
     "data": {
      "image/png": "[encoded data removed]",
      "text/plain": [
       "<Figure size 432x288 with 1 Axes>"
      ]
     },
     "metadata": {
      "needs_background": "light"
     },
     "output_type": "display_data"
    },
    {
     "data": {
      "text/plain": [
       "<Figure size 432x288 with 0 Axes>"
      ]
     },
     "metadata": {},
     "output_type": "display_data"
    }
   ],
   "source": [
    "kmeans = KMeans(init = init_mode, n_clusters=8,n_init = n_init_value, max_iter = max_iter_list[0], tol = tol_value, algorithm = algo).fit(stock_data)\n",
    "kmeans.fit(stock_data)\n",
    "\n",
    "r = pd.concat([df, pd.Series(kmeans.labels_, index=df.index)], axis=1)\n",
    "r.columns = list(df.columns) + [u'聚类类别']\n",
    "\n",
    "from sklearn.manifold import TSNE\n",
    "t_sne = TSNE()\n",
    "t_sne.fit(stock_data)\n",
    "t_sne = pd.DataFrame(t_sne.embedding_, index=df.index)\n",
    "\n",
    "plt.rcParams['font.sans-serif'] = ['SimHei']\n",
    "plt.rcParams['axes.unicode_minus'] = False\n",
    "dd = t_sne[r[u'聚类类别'] == 0]\n",
    "plt.plot(dd[0], dd[1], 'r.')\n",
    "dd = t_sne[r[u'聚类类别'] == 1]\n",
    "plt.plot(dd[0], dd[1], 'go')\n",
    "dd = t_sne[r[u'聚类类别'] == 2]\n",
    "plt.plot(dd[0], dd[1], 'b*')\n",
    "dd = t_sne[r[u'聚类类别'] == 3]\n",
    "plt.plot(dd[0], dd[1], \"r8\")\n",
    "dd = t_sne[r[u'聚类类别'] == 4]\n",
    "plt.plot(dd[0], dd[1], 'k*')\n",
    "dd = t_sne[r[u'聚类类别'] == 5]\n",
    "plt.plot(dd[0], dd[1], 'm*')\n",
    "dd = t_sne[r[u'聚类类别'] == 6]\n",
    "plt.plot(dd[0], dd[1], \"h\")\n",
    "dd = t_sne[r[u'聚类类别'] == 7]\n",
    "plt.plot(dd[0], dd[1], \"8\")\n",
    "plt.show()\n",
    "plt.clf()"
   ]
  },
  {
   "cell_type": "markdown",
   "metadata": {},
   "source": [
    "4. implement the k-means++ algorithm, that is, the algorithm that selects\n",
    "the initial centroids in a more clever way than random. To this end, we\n",
    "recommend to use a pseudo-random number generator and to partition\n",
    "the interval [0; 1] into n \\smaller\" intervals, where n is the number of\n",
    "input points so that 1) each interval correspond to one input point; 2) the\n",
    "probability that a random number falls into one of the smaller intervals\n",
    "is equal to the probability of selecting the corresponding input point in\n",
    "k-means++."
   ]
  },
  {
   "cell_type": "code",
   "execution_count": null,
   "metadata": {},
   "outputs": [],
   "source": []
  }
 ],
 "metadata": {
  "kernelspec": {
   "display_name": "Python 3",
   "language": "python",
   "name": "python3"
  },
  "language_info": {
   "codemirror_mode": {
    "name": "ipython",
    "version": 3
   },
   "file_extension": ".py",
   "mimetype": "text/x-python",
   "name": "python",
   "nbconvert_exporter": "python",
   "pygments_lexer": "ipython3",
   "version": "3.8.6"
  },
  "varInspector": {
   "cols": {
    "lenName": 16,
    "lenType": 16,
    "lenVar": 40
   },
   "kernels_config": {
    "python": {
     "delete_cmd_postfix": "",
     "delete_cmd_prefix": "del ",
     "library": "var_list.py",
     "varRefreshCmd": "print(var_dic_list())"
    },
    "r": {
     "delete_cmd_postfix": ") ",
     "delete_cmd_prefix": "rm(",
     "library": "var_list.r",
     "varRefreshCmd": "cat(var_dic_list()) "
    }
   },
   "types_to_exclude": [
    "module",
    "function",
    "builtin_function_or_method",
    "instance",
    "_Feature"
   ],
   "window_display": false
  }
 },
 "nbformat": 4,
 "nbformat_minor": 2
}
