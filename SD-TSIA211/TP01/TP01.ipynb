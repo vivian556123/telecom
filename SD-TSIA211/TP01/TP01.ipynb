{
 "cells": [
  {
   "cell_type": "code",
   "execution_count": 1,
   "metadata": {},
   "outputs": [],
   "source": [
    "import numpy as np\n",
    "import scipy.sparse as sp\n",
    "from scipy.linalg import norm, solve\n",
    "from scipy.optimize import check_grad\n",
    "import matplotlib.pyplot as plt\n",
    "import time"
   ]
  },
  {
   "cell_type": "code",
   "execution_count": 2,
   "metadata": {},
   "outputs": [],
   "source": [
    "def load_data(file_name_matrix='tfidf_matrix_97MB.npz', file_name_feature_names='feature_names_97MB.npy',\n",
    "          file_name_labels='train_labels.npy', samples_in_train_set=10000,\n",
    "          samples_in_test_set=137562):\n",
    "    # Recuperation des donnees\n",
    "    TF_IDF_matrix = sp.load_npz(file_name_matrix)\n",
    "    TF_IDF_feature_names = np.load(file_name_feature_names)\n",
    "    train_labels = np.load(file_name_labels, allow_pickle=True)\n",
    "    train_labels_numeric = ((train_labels == 'Oui') + 0)\n",
    "\n",
    "    X = TF_IDF_matrix[:samples_in_train_set].toarray()\n",
    "    y = train_labels_numeric[:samples_in_train_set] * 2 - 1\n",
    "\n",
    "    X_test = TF_IDF_matrix[samples_in_train_set:samples_in_train_set+samples_in_test_set].toarray()\n",
    "    y_test = train_labels_numeric[samples_in_train_set:samples_in_train_set+samples_in_test_set] * 2 - 1\n",
    "\n",
    "\n",
    "    # Standardisation des données\n",
    "    std_X = np.maximum(np.std(X, axis=0), 1e-7)\n",
    "    X = X / std_X\n",
    "    X_test = X_test / std_X\n",
    "\n",
    "    n = X.shape[0]\n",
    "    m = X.shape[1]\n",
    "\n",
    "    n_test = X_test.shape[0]\n",
    "    \n",
    "    # Ajout d'une colonne de uns\n",
    "    eX = np.hstack((np.ones((n,1)), X))\n",
    "    eX_test = np.hstack((np.ones((n_test,1)), X_test))\n",
    "\n",
    "    #return X,y,X_test,y_test\n",
    "    return eX, y, eX_test, y_test\n"
   ]
  },
  {
   "cell_type": "code",
   "execution_count": 3,
   "metadata": {},
   "outputs": [],
   "source": [
    "eX,y,eX_test,y_test = load_data()"
   ]
  },
  {
   "cell_type": "code",
   "execution_count": 4,
   "metadata": {},
   "outputs": [
    {
     "data": {
      "text/plain": [
       "(10000,)"
      ]
     },
     "execution_count": 4,
     "metadata": {},
     "output_type": "execute_result"
    }
   ],
   "source": [
    "y.shape"
   ]
  },
  {
   "cell_type": "markdown",
   "metadata": {},
   "source": [
    "### Question 3.1"
   ]
  },
  {
   "cell_type": "markdown",
   "metadata": {},
   "source": [
    "We note $x_i \\in \\mathbb{R}^p$, $w \\in \\mathbb{R}^p$, $w \\in \\mathbb{R}$\n",
    "\n",
    "$f_1 = (w_0,w) \\rightarrow \\frac{1}{n}\\sum_{i=1}^n \\log(1 + \\exp(-y_i (x_i^\\top+w_0))) + \\frac{\\rho}{2}\\|w\\|^2 = g(w_0,w) + \\frac{\\rho}{2}\\|w\\|^2  = g(w_0,w) + h(w_0,w)$\n",
    "\n",
    "We can define $\\tilde w = [w0,w]^\\top$ and $\\tilde x_i = [xi^\\top,1]^\\top$.\n",
    "\n",
    "So $\\nabla g(\\tilde w) = \\frac{1}{n}\\sum_{i=1}^n \\frac{-y_i \\exp(-y_i \\tilde x_i^\\top \\tilde w ) \\tilde x_i}{1 + \\exp(-y_i \\tilde x_i^\\top \\tilde w)}$\n",
    "\n",
    "Since $\\frac{d h(w_0,w)}{dw}  = [0, \\rho w]^\\top$\n",
    "\n",
    "Therefore, we have the gradient of $f_1$ is \n",
    "\n",
    "$$\n",
    " \\nabla f_1(w_0,w) = \\left[\n",
    " \\begin{matrix}\n",
    "   \\frac{1}{n}\\sum_{i=1}^n \\frac{-y_i \\exp(-y_i (x_iw + w_0) ) (x_iw + w_0)}{1 + \\exp(-y_i (x_iw + w_0))}\\\\\n",
    "  \\frac{1}{n}\\sum_{i=1}^n \\frac{-y_i \\exp(-y_i (x_iw + w_0) ) (x_iw + w_0)}{1 + \\exp(-y_i (x_iw + w_0))} x_i + \\rho w \n",
    "  \\end{matrix}\n",
    "  \\right] \n",
    "$$\n",
    "\n",
    "Hessian matrix is\n",
    "$$\n",
    " \\left[\n",
    " \\begin{matrix}\n",
    "   \\frac{df_1}{dw_0^2} &  \\frac{df_1}{dw_0 dw} \\\\ \n",
    "  \\frac{df_1}{dwdw^0} &  \\frac{df_1}{dw^2}\n",
    "  \\end{matrix}\n",
    "  \\right] \\tag{3}\n",
    "$$\n",
    "\n",
    "$\\nabla^2 f_1$ can be written as the sum of $\\nabla^2 g(\\tilde w)$ and $\\nabla^2 h(\\tilde w)$, therefore, \n",
    "\n",
    "\n",
    "$$\\nabla^2 g(\\tilde w) = \\frac{1}{n}\\sum_{i=1}^n\\frac{\\exp(-y_i \\tilde x_i^\\top \\tilde w)}{\\|1 + \\exp(-y_i \\tilde x_i^\\top \\tilde w)\\|^2 }\\tilde x_i \\tilde x_i^\\top $$\n",
    "\n",
    "$$\n",
    "\\nabla^2 f_1(w_0,w) = \\left[\n",
    " \\begin{matrix}\n",
    "\\frac{1}{n}\\sum_{i=1}^n\\frac{\\exp(-y_i (x_iw + w_0))}{\\|1 + \\exp(-y_i (x_iw + w_0))\\|^2 } & \\frac{1}{n}\\sum_{i=1}^n\\frac{\\exp(-y_i (x_iw + w_0))}{\\|1 + \\exp(-y_i (x_iw + w_0))\\|^2 }x_i\\\\\n",
    "\\frac{1}{n}\\sum_{i=1}^n\\frac{\\exp(-y_i (x_iw + w_0))}{\\|1 + \\exp(-y_i (x_iw + w_0))\\|^2 }x_i^\\top & \\frac{1}{n}\\sum_{i=1}^n\\frac{\\exp(-y_i (x_iw + w_0))}{\\|1 + \\exp(-y_i (x_iw + w_0))\\|^2 }x_i x_i^\\top + \\rho I_p\\\\\n",
    "  \\end{matrix}\n",
    "  \\right] \n",
    "$$\n",
    "\n",
    "\n"
   ]
  },
  {
   "cell_type": "code",
   "execution_count": null,
   "metadata": {},
   "outputs": [],
   "source": []
  },
  {
   "cell_type": "markdown",
   "metadata": {},
   "source": [
    "### Question 3.2"
   ]
  },
  {
   "cell_type": "code",
   "execution_count": 14,
   "metadata": {},
   "outputs": [],
   "source": [
    "def logistic_regression_loss(X,Y,w): #X = tilde x, W = tilde w\n",
    "    number = X.shape[0]\n",
    "    #print(X.shape[0],X.shape[1])\n",
    "    f = 0\n",
    "    df_w0 = 0\n",
    "    df_w=0\n",
    "    df2_00=0\n",
    "    df2_01=0\n",
    "    df2_11=0\n",
    "    df2_10 = 0\n",
    "    df2 = np.zeros((X.shape[1],X.shape[1]))\n",
    "    for i in range(number):\n",
    "        xi = np.expand_dims(X[i][1:],axis = 1)\n",
    "        f += np.log(1 + np.exp(-Y[i]*(X[i].T@w)))\n",
    "        df_w0 += -Y[i]*np.exp(-Y[i]*X[i].T@w) / (1 + np.exp(-Y[i]*X[i].T@w))\n",
    "        df_w += -Y[i]*np.exp(-Y[i]*X[i].T@w) / (1 + np.exp(-Y[i]*X[i].T@w)) * X[i][1:]\n",
    "        df2_00 += np.exp(-Y[i]*X[i].T@w) / abs(1+np.exp(-Y[i]*X[i].T@w))**2\n",
    "        df2_01 += np.exp(-Y[i]*X[i].T@w) / abs(1+np.exp(-Y[i]*X[i].T@w))**2 * xi\n",
    "        df2_10 += np.exp(-Y[i]*X[i].T@w) / abs(1+np.exp(-Y[i]*X[i].T@w))**2 * xi.T\n",
    "        df2_11 += np.exp(-Y[i]*X[i].T@w) / abs(1+np.exp(-Y[i]*X[i].T@w))**2 * xi@xi.T\n",
    "        \n",
    "    f = f/number + 1/number/2 * w[1:]@w[1:]\n",
    "    df_w = df_w + 1/number*w[1:]\n",
    "    #print(df_w.shape)\n",
    "    df = np.zeros(X.shape[1]) \n",
    "    df[0]= df_w0/number\n",
    "    df[1:] =np.squeeze(df_w/number)\n",
    "    \n",
    "    df2[0,0] = df2_00/number\n",
    "    df2[0,1:] = np.squeeze(df2_01/number)\n",
    "    df2[1:,0]=np.squeeze(df2_10/number)\n",
    "    df2[1:,1:] = df2_11/number\n",
    "    for i in range(1,X.shape[1]):\n",
    "        df2[i,i] += 1/number\n",
    "    return f,df,df2"
   ]
  },
  {
   "cell_type": "code",
   "execution_count": 6,
   "metadata": {},
   "outputs": [
    {
     "name": "stdout",
     "output_type": "stream",
     "text": [
      "10000 576\n"
     ]
    }
   ],
   "source": [
    "f,df,df2 = logistic_regression_loss(eX,y,np.zeros(eX.shape[1]))"
   ]
  },
  {
   "cell_type": "code",
   "execution_count": 7,
   "metadata": {},
   "outputs": [
    {
     "data": {
      "text/plain": [
       "array([[0.25      , 0.05359961, 0.05074763, ..., 0.06745536, 0.14326925,\n",
       "        0.096354  ],\n",
       "       [0.05359961, 0.26159167, 0.02377477, ..., 0.01879477, 0.03259928,\n",
       "        0.02012643],\n",
       "       [0.05074763, 0.02377477, 0.26040129, ..., 0.01196662, 0.02506709,\n",
       "        0.02313315],\n",
       "       ...,\n",
       "       [0.06745536, 0.01879477, 0.01196662, ..., 0.2683009 , 0.0423312 ,\n",
       "        0.02748576],\n",
       "       [0.14326925, 0.03259928, 0.02506709, ..., 0.0423312 , 0.33220431,\n",
       "        0.06168203],\n",
       "       [0.096354  , 0.02012643, 0.02313315, ..., 0.02748576, 0.06168203,\n",
       "        0.28723638]])"
      ]
     },
     "execution_count": 7,
     "metadata": {},
     "output_type": "execute_result"
    }
   ],
   "source": [
    "df2"
   ]
  },
  {
   "cell_type": "markdown",
   "metadata": {},
   "source": [
    "### Question 3.3"
   ]
  },
  {
   "cell_type": "code",
   "execution_count": 11,
   "metadata": {},
   "outputs": [],
   "source": [
    "def newton(eX,y,epsilon,w_init):\n",
    "    norm_list = []\n",
    "    i = 0\n",
    "    w = w_init\n",
    "    f,df,df2 = logistic_regression_loss(eX,y,w)\n",
    "    print(np.linalg.norm(df,ord = 2))\n",
    "    while np.linalg.norm(df,ord = 2) >= epsilon:\n",
    "        norm = np.linalg.norm(df,ord=2)\n",
    "        norm_list.append(norm)\n",
    "        i = i+1\n",
    "        w = w - np.linalg.inv(df2)@df\n",
    "        f,df,df2 = logistic_regression_loss(eX,y,w)\n",
    "        print(norm)\n",
    "    \n",
    "    plt.plot(range(i),norm_list)\n",
    "    plt.show()\n",
    "    return w,norm_list"
   ]
  },
  {
   "cell_type": "code",
   "execution_count": 12,
   "metadata": {},
   "outputs": [
    {
     "name": "stdout",
     "output_type": "stream",
     "text": [
      "10000 576\n",
      "1.4950280608255968\n",
      "10000 576\n",
      "1.4950280608255968\n",
      "10000 576\n",
      "0.18968629151309893\n",
      "10000 576\n",
      "0.017625025345530846\n",
      "10000 576\n",
      "0.00024956619314540847\n",
      "10000 576\n",
      "1.2604731896506097e-06\n",
      "10000 576\n",
      "1.0816090860218408e-07\n",
      "10000 576\n",
      "9.449050075500965e-09\n",
      "10000 576\n",
      "8.254731084221495e-10\n"
     ]
    },
    {
     "data": {
      "image/png": "[encoded data removed]",
      "text/plain": [
       "<Figure size 432x288 with 1 Axes>"
      ]
     },
     "metadata": {
      "needs_background": "light"
     },
     "output_type": "display_data"
    }
   ],
   "source": [
    "w_init=np.zeros(eX.shape[1])\n",
    "w = newton(eX,y,10**-10,w_init)"
   ]
  },
  {
   "cell_type": "code",
   "execution_count": null,
   "metadata": {},
   "outputs": [],
   "source": []
  },
  {
   "cell_type": "markdown",
   "metadata": {},
   "source": [
    "### Question 3.4\n"
   ]
  },
  {
   "cell_type": "code",
   "execution_count": 13,
   "metadata": {},
   "outputs": [
    {
     "name": "stdout",
     "output_type": "stream",
     "text": [
      "10000 576\n",
      "2.972956600035639\n",
      "10000 576\n"
     ]
    },
    {
     "name": "stderr",
     "output_type": "stream",
     "text": [
      "<ipython-input-5-700b988d1614>:14: RuntimeWarning: overflow encountered in exp\n",
      "  f += np.log(1 + np.exp(-Y[i]*(X[i].T@w)))\n",
      "<ipython-input-5-700b988d1614>:15: RuntimeWarning: overflow encountered in exp\n",
      "  df_w0 += -Y[i]*np.exp(-Y[i]*X[i].T@w) / (1 + np.exp(-Y[i]*X[i].T@w))\n",
      "<ipython-input-5-700b988d1614>:15: RuntimeWarning: invalid value encountered in double_scalars\n",
      "  df_w0 += -Y[i]*np.exp(-Y[i]*X[i].T@w) / (1 + np.exp(-Y[i]*X[i].T@w))\n",
      "<ipython-input-5-700b988d1614>:16: RuntimeWarning: overflow encountered in exp\n",
      "  df_w += -Y[i]*np.exp(-Y[i]*X[i].T@w) / (1 + np.exp(-Y[i]*X[i].T@w)) * X[i][1:]\n",
      "<ipython-input-5-700b988d1614>:16: RuntimeWarning: invalid value encountered in double_scalars\n",
      "  df_w += -Y[i]*np.exp(-Y[i]*X[i].T@w) / (1 + np.exp(-Y[i]*X[i].T@w)) * X[i][1:]\n",
      "<ipython-input-5-700b988d1614>:17: RuntimeWarning: overflow encountered in exp\n",
      "  df2_00 += np.exp(-Y[i]*X[i].T@w) / abs(1+np.exp(-Y[i]*X[i].T@w))**2\n",
      "<ipython-input-5-700b988d1614>:17: RuntimeWarning: invalid value encountered in double_scalars\n",
      "  df2_00 += np.exp(-Y[i]*X[i].T@w) / abs(1+np.exp(-Y[i]*X[i].T@w))**2\n",
      "<ipython-input-5-700b988d1614>:18: RuntimeWarning: overflow encountered in exp\n",
      "  df2_01 += np.exp(-Y[i]*X[i].T@w) / abs(1+np.exp(-Y[i]*X[i].T@w))**2 * xi\n",
      "<ipython-input-5-700b988d1614>:18: RuntimeWarning: invalid value encountered in double_scalars\n",
      "  df2_01 += np.exp(-Y[i]*X[i].T@w) / abs(1+np.exp(-Y[i]*X[i].T@w))**2 * xi\n",
      "<ipython-input-5-700b988d1614>:19: RuntimeWarning: overflow encountered in exp\n",
      "  df2_10 += np.exp(-Y[i]*X[i].T@w) / abs(1+np.exp(-Y[i]*X[i].T@w))**2 * xi.T\n",
      "<ipython-input-5-700b988d1614>:19: RuntimeWarning: invalid value encountered in double_scalars\n",
      "  df2_10 += np.exp(-Y[i]*X[i].T@w) / abs(1+np.exp(-Y[i]*X[i].T@w))**2 * xi.T\n",
      "<ipython-input-5-700b988d1614>:20: RuntimeWarning: overflow encountered in exp\n",
      "  df2_11 += np.exp(-Y[i]*X[i].T@w) / abs(1+np.exp(-Y[i]*X[i].T@w))**2 * xi@xi.T\n",
      "<ipython-input-5-700b988d1614>:20: RuntimeWarning: invalid value encountered in double_scalars\n",
      "  df2_11 += np.exp(-Y[i]*X[i].T@w) / abs(1+np.exp(-Y[i]*X[i].T@w))**2 * xi@xi.T\n"
     ]
    },
    {
     "name": "stdout",
     "output_type": "stream",
     "text": [
      "2.972956600035639\n"
     ]
    },
    {
     "data": {
      "image/png": "[encoded data removed]",
      "text/plain": [
       "<Figure size 432x288 with 1 Axes>"
      ]
     },
     "metadata": {
      "needs_background": "light"
     },
     "output_type": "display_data"
    }
   ],
   "source": [
    "w_init=np.ones(eX.shape[1])\n",
    "w = newton(eX,y,10**-10,w_init)"
   ]
  },
  {
   "cell_type": "code",
   "execution_count": null,
   "metadata": {},
   "outputs": [],
   "source": []
  },
  {
   "cell_type": "markdown",
   "metadata": {},
   "source": [
    "### Question 3.5"
   ]
  },
  {
   "cell_type": "code",
   "execution_count": 20,
   "metadata": {},
   "outputs": [],
   "source": [
    "def armijo_newton(eX,y,epsilon,w,b,a,beta):\n",
    "    norm_list = []\n",
    "    i = 0\n",
    "    f,df,df2 = logistic_regression_loss(eX,y,w)\n",
    "    print(np.linalg.norm(df,ord = 2))\n",
    "    while np.linalg.norm(df,ord = 2) >= epsilon:\n",
    "        norm = np.linalg.norm(df,ord=2)\n",
    "        norm_list.append(norm)\n",
    "        i = i+1\n",
    "        if i > 3:\n",
    "            w = w - np.linalg.inv(df2)@df\n",
    "        else:\n",
    "            l = 0\n",
    "            w_armijo = w-(b*a)**l*np.linalg.inv(df2)@df\n",
    "            f_l,df_l,df2_l = logistic_regression_loss(eX,y,w_armijo)\n",
    "            while f_l - f-beta*np.dot(df,w_armijo - w) >=0:\n",
    "                l = l + 1\n",
    "                w_armijo = w-(b*a)**l*np.linalg.inv(df2)@df\n",
    "                f_l,df_l,df2_l = logistic_regression_loss(eX,y,w_armijo)\n",
    "            w = w_armijo\n",
    "        f,df,df2 = logistic_regression_loss(eX,y,w)\n",
    "        print(norm)\n",
    "    \n",
    "    plt.plot(range(i),norm_list)\n",
    "    plt.show()\n",
    "    return w,norm_list"
   ]
  },
  {
   "cell_type": "code",
   "execution_count": 21,
   "metadata": {},
   "outputs": [
    {
     "name": "stdout",
     "output_type": "stream",
     "text": [
      "1.4950280608255968\n",
      "1.4950280608255968\n",
      "0.18968629151309893\n",
      "0.017625025345530846\n",
      "0.00887525281238496\n",
      "6.574845366144883e-05\n",
      "6.111177267039867e-07\n",
      "5.322000788423196e-08\n",
      "4.649428118083012e-09\n",
      "4.0617421658133096e-10\n"
     ]
    },
    {
     "data": {
      "image/png": "[encoded data removed]",
      "text/plain": [
       "<Figure size 432x288 with 1 Axes>"
      ]
     },
     "metadata": {
      "needs_background": "light"
     },
     "output_type": "display_data"
    },
    {
     "data": {
      "text/plain": [
       "(array([-1.01226061e+00, -1.69898917e-02,  2.39394348e-02, -3.36308257e-02,\n",
       "         5.50537486e-02,  4.37413643e-02,  3.95275474e-02,  4.41167412e-02,\n",
       "         4.21717720e-03,  1.20216920e-02,  2.35361524e-02, -9.75848200e-03,\n",
       "         1.55853171e-02,  3.79376611e-02,  5.92707672e-02, -8.05851894e-03,\n",
       "         2.90992329e-02,  1.26518473e-02,  4.84172776e-02,  6.01002323e-02,\n",
       "         4.32291433e-02, -2.62045946e-02, -1.04024659e-02, -5.25258152e-03,\n",
       "         1.54227822e-02,  1.20649431e-02, -1.92748274e-03,  3.73519839e-02,\n",
       "         2.33890420e-02,  3.12850072e-02,  1.31088127e-02,  4.47813057e-02,\n",
       "         5.10199350e-02,  5.24567661e-02,  1.72542928e-02, -9.75637768e-02,\n",
       "         1.52753672e-02,  1.01577383e-02,  6.52216996e-02,  3.82701100e-02,\n",
       "        -1.89699340e-02, -5.73612100e-02, -1.07645727e-02,  1.82654917e-02,\n",
       "         1.28032754e-02,  3.86350614e-02,  6.43104164e-02,  1.74039116e-02,\n",
       "        -2.62856764e-02, -1.92875970e-03,  3.25491955e-02,  2.60269144e-03,\n",
       "        -3.40606487e-02,  2.06243912e-02, -2.35479584e-02, -1.18529543e-02,\n",
       "         9.33962526e-02,  9.20396620e-02,  7.90662815e-02,  2.51148959e-02,\n",
       "        -2.61680117e-02, -7.20302382e-03, -1.12392736e-03,  2.10022072e-02,\n",
       "        -4.10531943e-03,  1.87960003e-02,  5.28298876e-03,  3.21568145e-02,\n",
       "        -2.73697269e-03, -3.51352214e-04,  3.77622155e-02, -5.68345073e-03,\n",
       "         4.10612610e-02, -4.68450766e-03, -4.33168013e-02,  1.24549766e-02,\n",
       "        -5.98311813e-02, -3.42673257e-02,  4.44168782e-02, -1.76219881e-02,\n",
       "         5.24704540e-02,  1.26438948e-01,  4.31556700e-03, -2.86363309e-02,\n",
       "        -2.97694770e-02,  2.27316961e-02, -9.56605968e-03,  1.64464074e-03,\n",
       "         4.54640294e-02,  3.67260433e-02,  5.28408874e-03,  1.34381020e-03,\n",
       "        -6.55512036e-03, -2.58394399e-02,  1.67832029e-02, -1.36300548e-02,\n",
       "        -2.59329295e-02,  4.01002686e-02, -1.39997866e-02,  4.15575629e-02,\n",
       "         2.34185635e-02,  1.45549345e-02, -1.38212820e-02, -5.60907946e-02,\n",
       "         1.88329563e-02, -2.57579942e-02, -8.98318768e-02,  1.71992870e-02,\n",
       "        -4.00114634e-02,  6.74269042e-02,  2.40180332e-02,  2.38647721e-02,\n",
       "        -7.22246127e-03,  1.71787115e-06,  2.36390370e-02,  2.63491230e-02,\n",
       "         5.75890534e-04,  1.58144481e-02, -1.36251825e-02,  3.83647113e-02,\n",
       "         1.63242113e-02, -4.79508993e-02,  4.20533880e-02,  1.95353437e-02,\n",
       "        -1.83340694e-02,  8.23474971e-03,  3.24185228e-02, -3.65394019e-02,\n",
       "        -3.22765613e-02, -4.83239947e-01, -1.64846680e-02,  5.45820183e-02,\n",
       "         3.01839093e-02,  4.43990260e-03,  1.31745996e-02,  8.55841645e-04,\n",
       "        -1.04729403e-02,  8.11709239e-03, -1.98698647e-02, -3.94610635e-02,\n",
       "         4.19934597e-02,  1.28759646e-02, -1.49335023e-02,  2.95916287e-02,\n",
       "        -3.11885386e-03,  3.22786913e-02,  1.10522654e-02, -1.86180942e-02,\n",
       "         7.80766733e-03,  2.29779122e-02, -3.60362293e-02,  1.24208306e-02,\n",
       "        -5.30253484e-02, -4.09756643e-02, -3.11220510e-02, -4.18954787e-02,\n",
       "        -1.69598613e-02, -2.23131322e-02, -1.77808095e-02,  3.27388647e-02,\n",
       "         1.54178835e-02,  7.75205672e-03, -3.12949728e-02, -3.62192365e-04,\n",
       "        -8.24396869e-03,  1.96527087e-02,  3.74853582e-02,  1.52169180e-02,\n",
       "         8.01102640e-03,  4.27692535e-02, -3.14051356e-02, -2.28076037e-02,\n",
       "         1.39567098e-02,  2.16153740e-01,  3.78235060e-02,  3.43522453e-02,\n",
       "        -4.28938772e-02,  3.40686654e-02, -3.29056025e-02,  1.82894614e-02,\n",
       "         2.25573035e-02,  9.73942051e-03,  1.06143500e-02, -2.46139609e-03,\n",
       "         3.07596297e-02,  8.75077525e-02,  9.02707844e-02,  7.59479560e-02,\n",
       "        -2.36529059e-02,  2.92695201e-02, -1.17685808e-02,  5.13530437e-02,\n",
       "        -4.51825041e-02, -1.39231621e-02,  4.17372265e-02,  1.66853485e-02,\n",
       "        -4.14857371e-02, -1.29194962e-03,  2.29351864e-02, -2.86803551e-03,\n",
       "         1.52781516e-02,  2.68336221e-03, -9.82096871e-03,  2.89589109e-02,\n",
       "        -2.09131856e-02, -5.56998487e-02,  4.76936569e-02, -3.41967224e-02,\n",
       "        -6.80800037e-02,  5.09980013e-03,  7.63865264e-05,  4.00288222e-02,\n",
       "         5.10214954e-02, -1.51813263e-02,  1.64166952e-02,  6.09356755e-02,\n",
       "        -7.67150434e-03, -1.29039122e-02, -2.88981878e-02,  1.07291806e-02,\n",
       "         1.17062488e-02,  1.99256101e-02, -2.19732126e-02,  1.58166796e-02,\n",
       "        -8.32008682e-02, -1.50880932e-03, -1.27494663e-03, -6.97772739e-04,\n",
       "        -1.85565159e-03,  2.68380937e-02,  6.77774142e-02,  4.00320620e-02,\n",
       "         7.45975363e-03,  4.95658152e-02, -3.63983753e-02,  2.18291952e-02,\n",
       "        -3.88209416e-02, -4.59854540e-03, -1.28810993e-02,  3.72797733e-02,\n",
       "        -4.38732359e-02,  1.31504988e-02,  1.47111231e-01, -2.00097385e-02,\n",
       "        -5.70594695e-04,  5.14600376e-02, -3.51678393e-02, -9.40267555e-03,\n",
       "        -1.56197360e-02,  1.93007376e-02,  5.74300499e-02,  4.82275168e-02,\n",
       "         2.15699311e-03,  3.22567832e-02,  1.48261591e-02, -8.16159953e-03,\n",
       "        -4.97927634e-03, -2.06625637e-02, -3.53764417e-03,  3.09899833e-03,\n",
       "         5.93693810e-02,  7.13958131e-02, -1.13986689e-02, -2.25912001e-02,\n",
       "         5.01102992e-02,  2.43435167e-02,  5.54690120e-02,  8.62801905e-03,\n",
       "        -1.45124503e-02,  2.76887818e-02,  5.88756580e-02,  3.66411995e-03,\n",
       "         4.02939050e-02,  1.78917014e-02,  5.43616561e-02,  3.54992012e-02,\n",
       "         2.71407826e-02,  1.45451232e-02, -8.43904048e-03, -6.60107282e-02,\n",
       "        -2.16442360e-02,  2.87058080e-02, -1.63275328e-02, -9.29414145e-03,\n",
       "         4.81702595e-02,  3.60185604e-02,  3.58299253e-02, -2.38574538e-02,\n",
       "         2.31447818e-02, -1.19643113e-02, -4.52285397e-02, -7.76571421e-03,\n",
       "         2.89970043e-02, -4.06179459e-02,  1.66881751e-02,  2.08063083e-02,\n",
       "        -2.09113533e-02,  4.20794616e-02,  8.54528191e-02, -2.60578486e-02,\n",
       "         6.04831939e-03, -9.97568691e-03,  6.56263245e-02,  3.74495131e-02,\n",
       "         4.26249275e-02, -3.40298768e-02,  2.09118549e-02, -5.22442690e-02,\n",
       "        -8.38285807e-03, -4.27206671e-02,  2.16613738e-02,  4.54310319e-02,\n",
       "        -1.48303279e-02,  5.74440571e-02, -2.67138341e-02, -5.86697992e-02,\n",
       "         1.65315150e-02, -5.20363233e-02, -3.84762487e-02, -3.42013481e-02,\n",
       "         2.26125714e-02,  1.30014277e-02,  2.39752469e-02, -1.57366474e-02,\n",
       "        -6.15384409e-03, -4.26793502e-03,  2.28170228e-02,  4.94252898e-02,\n",
       "         2.27432239e-02,  3.56169231e-02,  5.07742575e-02, -6.30156760e-02,\n",
       "         4.40283056e-03,  3.08563169e-03, -6.22498297e-03, -4.04155758e-02,\n",
       "         6.04245478e-02,  1.06288912e-02,  7.38392477e-03,  4.49203421e-02,\n",
       "        -5.75716302e-03,  2.09714115e-02, -5.87178006e-02, -1.51237947e-02,\n",
       "        -1.92643166e-02,  6.72528901e-02,  1.45092977e-02, -1.42895399e-02,\n",
       "         2.98204767e-02,  4.71164558e-03,  8.85043713e-04, -2.11568587e-02,\n",
       "         2.59789307e-02,  3.40602648e-02, -1.06446449e-02, -9.40353398e-03,\n",
       "        -3.16509259e-02, -2.12050755e-02,  7.67883302e-02,  1.91436905e-03,\n",
       "         4.46107363e-02,  5.04989570e-02,  4.63390194e-02,  5.96785672e-05,\n",
       "        -1.70565938e-01,  3.43164006e-03, -6.40934246e-03, -4.12114462e-02,\n",
       "        -2.17611859e-02,  2.60976736e-02,  6.82534200e-02, -9.71208955e-03,\n",
       "         1.85199485e-02,  1.55082250e-02, -1.81049100e-02,  2.64771335e-02,\n",
       "         3.30552676e-02, -1.99013421e-02,  4.40888902e-02,  3.45969122e-02,\n",
       "         6.03056790e-02, -3.61741785e-03,  3.92504052e-02,  6.29672376e-02,\n",
       "         7.41141290e-03,  1.17478451e-02,  9.47224134e-03,  1.35050696e-02,\n",
       "         6.90967527e-02,  4.80057788e-02, -1.76882190e-02,  3.80094298e-02,\n",
       "        -4.02533210e-02, -6.22103457e-03,  2.95604718e-02,  2.80316129e-02,\n",
       "         6.72604907e-03,  3.66192634e-02,  2.73380733e-02, -2.84867652e-02,\n",
       "        -6.00072058e-03, -7.58152697e-04, -4.29668110e-02,  1.75077350e-02,\n",
       "         3.83839770e-03,  1.35885499e-02,  2.11770831e-02,  4.27700494e-02,\n",
       "         4.25255960e-02, -4.49095892e-02,  1.35047343e-02,  1.45725339e-02,\n",
       "        -4.28213603e-02,  2.16411151e-02,  5.41349767e-04,  2.12590093e-03,\n",
       "         8.53616207e-03,  6.26909593e-03,  3.32845733e-02,  2.43285240e-02,\n",
       "         1.14744071e-02,  6.31284740e-02,  5.54833845e-02,  2.62099693e-02,\n",
       "         2.13361605e-02,  3.57155265e-02,  1.03169698e-02,  9.63322725e-03,\n",
       "        -5.43151382e-03, -3.62422749e-02, -3.68386692e-02, -1.30919261e-02,\n",
       "         2.47191571e-02, -3.26309522e-02, -3.33860427e-02, -4.97541453e-02,\n",
       "        -4.71641831e-02, -2.22566275e-02, -7.89316736e-03,  2.03438815e-02,\n",
       "         3.82242933e-03, -9.85383998e-03, -3.37374550e-02,  3.93405771e-02,\n",
       "        -3.83812478e-02, -4.45894332e-02,  5.67149465e-02,  1.29268255e-02,\n",
       "        -4.00352386e-02, -3.20258592e-02,  1.05242569e-02,  6.13760425e-02,\n",
       "         4.12618040e-02,  1.01361268e-02,  1.82733237e-02, -5.58445943e-03,\n",
       "        -2.63986504e-02, -7.05306523e-02, -4.47915818e-04,  3.72286184e-02,\n",
       "        -3.05879921e-02,  3.41351258e-02, -1.06450769e-02, -2.40065553e-02,\n",
       "         1.62953415e-02,  2.95810620e-02, -2.48674691e-02,  4.69739687e-02,\n",
       "        -4.85650163e-03,  4.19667992e-02, -1.82730080e-03, -4.06925848e-03,\n",
       "         5.47315830e-03, -2.13694458e-02, -1.10096638e-02,  1.02878677e-02,\n",
       "        -2.72414890e-02,  1.59156587e-02,  2.32107646e-02, -1.18777384e-02,\n",
       "         3.23861381e-02, -3.87440469e-03,  4.02934703e-02, -5.20873028e-02,\n",
       "         4.90573442e-02,  1.90655595e-02,  3.52228270e-03, -7.05666854e-03,\n",
       "        -2.50529375e-03,  4.54719510e-02, -8.87494484e-03,  6.53486353e-03,\n",
       "         2.90820919e-02,  2.06645917e-03,  4.72581956e-02, -2.51129113e-02,\n",
       "        -9.69342979e-03,  2.17989053e-02, -1.54559904e-02,  9.32421002e-03,\n",
       "        -5.10509096e-03,  1.73102334e-02,  2.19355128e-02,  2.99286408e-02,\n",
       "         4.42067009e-01,  7.66642642e-03,  4.81170353e-03,  6.50096828e-02,\n",
       "        -3.42348021e-02, -4.44590336e-02, -1.15947286e-02, -2.15680456e-02,\n",
       "         1.43090326e-02, -1.23671125e-02,  1.94492005e-02,  4.53061858e-03,\n",
       "         4.26011151e-02,  2.93446529e-02, -1.56681874e-02,  6.11019692e-02,\n",
       "         9.62452451e-02,  9.36947068e-02,  1.42343626e-02,  1.88355711e-02,\n",
       "        -1.52457722e-02,  1.16396328e-01, -4.41826344e-02,  1.42628174e-02,\n",
       "         2.53146387e-03,  2.88562290e-03, -8.66645483e-02,  2.67488607e-02,\n",
       "        -1.58943743e-02,  2.64377472e-02,  1.01631936e-02,  4.48448950e-02,\n",
       "        -2.59221639e-02, -6.58485758e-03, -6.97433201e-02,  2.58272580e-02,\n",
       "         1.88658786e-02, -1.42410701e-02, -1.11660990e-02,  7.67840767e-02,\n",
       "         4.26740845e-02,  1.19782183e-01,  3.62357896e-02, -1.32036924e-02,\n",
       "         4.63646178e-02,  3.08109624e-02,  2.72626257e-02,  6.03691139e-02,\n",
       "         3.47539988e-02, -4.22268368e-02,  3.68423135e-02,  5.54829006e-02,\n",
       "         1.76974224e-02,  4.89441537e-02, -2.84515839e-02,  5.00165338e-02,\n",
       "         1.00177371e-02,  5.39148428e-03, -7.05099278e-03,  2.72744310e-02,\n",
       "        -6.58801152e-03, -3.79606727e-03, -4.75509863e-04,  7.04075192e-03,\n",
       "        -1.26690670e-03, -2.03016891e-02, -4.26477874e-02,  2.19611869e-03,\n",
       "         8.76786205e-03, -6.66090054e-03,  2.18197128e-02,  6.83856237e-02]),\n",
       " [1.4950280608255968,\n",
       "  0.18968629151309893,\n",
       "  0.017625025345530846,\n",
       "  0.00887525281238496,\n",
       "  6.574845366144883e-05,\n",
       "  6.111177267039867e-07,\n",
       "  5.322000788423196e-08,\n",
       "  4.649428118083012e-09,\n",
       "  4.0617421658133096e-10])"
      ]
     },
     "execution_count": 21,
     "metadata": {},
     "output_type": "execute_result"
    }
   ],
   "source": [
    "armijo_newton(eX,y,10**-10,np.zeros(eX.shape[1]),1,0.5,0.5)"
   ]
  },
  {
   "cell_type": "markdown",
   "metadata": {},
   "source": [
    "We need to choose $a \\in (0,1), \\beta \\in (0,1), b > 0 $ and we set$a=0.5, \\beta =0.5, b =1 $"
   ]
  },
  {
   "cell_type": "code",
   "execution_count": null,
   "metadata": {},
   "outputs": [],
   "source": []
  },
  {
   "cell_type": "markdown",
   "metadata": {},
   "source": [
    "### Question 4.1"
   ]
  },
  {
   "cell_type": "markdown",
   "metadata": {},
   "source": [
    "We can’t we use Newton’s method to solve this problem because we need f three times continuously differentiable and $L_1$ norm does not satisfy this condition"
   ]
  },
  {
   "cell_type": "code",
   "execution_count": null,
   "metadata": {},
   "outputs": [],
   "source": []
  },
  {
   "cell_type": "markdown",
   "metadata": {},
   "source": [
    "### Question 4.2"
   ]
  },
  {
   "cell_type": "markdown",
   "metadata": {},
   "source": [
    "The difference is the second term, the regularization, where we used a $L_1$ normalization. The proximal operator of $L_1$ normalization is easier to calculate, so we note $g_2 = \\rho \\|\\omega\\|_1$ and $f_2 = \\frac{1}{n}\\sum_{i=1}^n \\log(1 + \\exp(-y_i (x_i^\\top+w_0)))$\n",
    "\n",
    "According to the definition of proximal operator, we have $\\text{prox}_g(x) = \\text{argmin}_{u} \\left(\\frac{1}{2}\\|u-x\\|^2 + g(x)\\right)$\n",
    "\n",
    "So $\\text{prox}_{\\rho \\| \\|_1}(\\omega) = \\text{argmin}_{u} \\left(\\frac{1}{2}\\|u_i-\\omega_i\\|^2 + \\rho \\|\\omega_i\\|_1\\right)$, \n",
    "\n",
    "and $h(u_i) =\\text{prox}_{\\rho \\| \\|_1}(\\omega_i) = \\text{argmin}_{u_i} \\left(\\frac{1}{2}\\|u_i-\\omega_i\\|^2 + \\rho \\|\\omega_i\\|_1\\right)$\n",
    "\n",
    "We have $\\frac{dh(u_i)}{du_i} = u_i-omega_i+\\rho$ when $u_i > 0$ and $\\frac{dh(u_i)}{du_i} = u_i-omega_i-\\rho$ when $u_i < 0$, therefore, $\\frac{dh(u_i)}{du_i} = 0 \\Leftrightarrow u_i = \\omega_i-\\rho $ when $u_i > 0$, and  $\\frac{dh(u_i)}{du_i} = 0 \\Leftrightarrow u_i = \\omega_i+\\rho $ when $u_i < 0$\n",
    "\n",
    "When $u_i= 0$, the subgradient of h is $[-1,1]$, and the characteristic of proximal operator shows that $p = \\text{prox}_g(\\omega) \\Leftrightarrow p-\\omega\\in \\partial f(p) $, then in this situation, $0 = \\text{prox}_{\\rho \\|\\omega_i\\|_1}$.\n",
    "\n",
    "Therefore, $\\text{prox}_{\\rho \\| \\|_1}(\\omega_i) = sign(x_i) \\times \\max(\\|\\omega_i\\| - \\rho, 0)$\n",
    "\n",
    "According to Question 3.1, the gradient of $f_2$ is \n",
    "\n",
    "$$\n",
    " \\nabla f_1(w_0,w) = \\left[\n",
    " \\begin{matrix}\n",
    "   \\frac{1}{n}\\sum_{i=1}^n \\frac{-y_i \\exp(-y_i (x_iw + w_0) ) (x_iw + w_0)}{1 + \\exp(-y_i (x_iw + w_0))}\\\\\n",
    "  \\frac{1}{n}\\sum_{i=1}^n \\frac{-y_i \\exp(-y_i (x_iw + w_0) ) (x_iw + w_0)}{1 + \\exp(-y_i (x_iw + w_0))} x_i\n",
    "  \\end{matrix}\n",
    "  \\right] \n",
    "$$"
   ]
  },
  {
   "cell_type": "code",
   "execution_count": null,
   "metadata": {},
   "outputs": [],
   "source": []
  },
  {
   "cell_type": "markdown",
   "metadata": {},
   "source": [
    "### Question 4.3"
   ]
  },
  {
   "cell_type": "code",
   "execution_count": 68,
   "metadata": {},
   "outputs": [],
   "source": [
    "def logistic_regression_loss2(X,Y,w): #X = tilde x, W = tilde w\n",
    "    number = X.shape[0]\n",
    "    #print(X.shape[0],X.shape[1])\n",
    "    f = 0\n",
    "    df_w0 = 0\n",
    "    df_w=0\n",
    "    df2_00=0\n",
    "    df2_01=0\n",
    "    df2_11=0\n",
    "    df2_10 = 0\n",
    "    df2 = np.zeros((X.shape[1],X.shape[1]))\n",
    "    for i in range(number):\n",
    "        xi = np.expand_dims(X[i][1:],axis = 1)\n",
    "        f += np.log(1 + np.exp(-Y[i]*(X[i].T@w)))\n",
    "        df_w0 += -Y[i]*np.exp(-Y[i]*X[i].T@w) / (1 + np.exp(-Y[i]*X[i].T@w))\n",
    "        df_w += -Y[i]*np.exp(-Y[i]*X[i].T@w) / (1 + np.exp(-Y[i]*X[i].T@w)) * X[i][1:]\n",
    "        df2_00 += np.exp(-Y[i]*X[i].T@w) / abs(1+np.exp(-Y[i]*X[i].T@w))**2\n",
    "        df2_01 += np.exp(-Y[i]*X[i].T@w) / abs(1+np.exp(-Y[i]*X[i].T@w))**2 * xi\n",
    "        df2_10 += np.exp(-Y[i]*X[i].T@w) / abs(1+np.exp(-Y[i]*X[i].T@w))**2 * xi.T\n",
    "        df2_11 += np.exp(-Y[i]*X[i].T@w) / abs(1+np.exp(-Y[i]*X[i].T@w))**2 * xi@xi.T\n",
    "        \n",
    "    f = f/number \n",
    "    #df_w = df_w + 1/number*w[1:]\n",
    "    #print(df_w.shape)\n",
    "    df = np.zeros(X.shape[1]) \n",
    "    df[0]= df_w0/number\n",
    "    df[1:] =np.squeeze(df_w/number)\n",
    "    \n",
    "    df2[0,0] = df2_00/number\n",
    "    df2[0,1:] = np.squeeze(df2_01/number)\n",
    "    df2[1:,0]=np.squeeze(df2_10/number)\n",
    "    df2[1:,1:] = df2_11/number\n",
    "    #for i in range(1,X.shape[1]):\n",
    "    #   df2[i,i] += 1/number\n",
    "    return f,df,df2"
   ]
  },
  {
   "cell_type": "code",
   "execution_count": 216,
   "metadata": {},
   "outputs": [],
   "source": [
    "def taylor_proximal(eX,y,epsilon,w,b,a,rho):\n",
    "    norm_list = []\n",
    "    i = 0\n",
    "    f,df,df2 = logistic_regression_loss2(eX,y,w)\n",
    "    norm = np.linalg.norm(df,ord=2)\n",
    "    norm_list.append(norm)\n",
    "    print(norm)\n",
    "    while norm >= epsilon:\n",
    "        i = i+1\n",
    "        l = 0\n",
    "        gamma = (b*a)**l\n",
    "        w_taylor = np.sign(w)*np.maximum(np.absolute(w - gamma*df) - gamma*rho*np.ones(eX.shape[1]),np.zeros(eX.shape[1]))\n",
    "        f_l,df_l,df2_l = logistic_regression_loss2(eX,y,w_taylor)\n",
    "        taylor = f_l - f-np.dot(df,w_taylor - w) - 1/2/gamma*np.linalg.norm(w - w_taylor)**2\n",
    "        while taylor >=0:\n",
    "            if l < 1: \n",
    "                l = l + 1\n",
    "                print(l)\n",
    "                gamma = 1\n",
    "                #gamma = (b*a)**l\n",
    "                w_taylor = np.sign(w)*np.maximum(np.absolute(w - gamma*df) - gamma*rho*np.ones(eX.shape[1]),np.zeros(eX.shape[1]))\n",
    "                f_l,df_l,df2_l = logistic_regression_loss2(eX,y,w_taylor)\n",
    "                taylor = f_l - f-np.dot(df,w_taylor - w) - 1/2/gamma*np.linalg.norm(w - w_taylor)**2 \n",
    "            else:\n",
    "                break\n",
    "        w = w_taylor\n",
    "        f,df,df2 = logistic_regression_loss2(eX,y,w)\n",
    "        norm = np.linalg.norm(df,ord=2)\n",
    "        norm_list.append(norm)\n",
    "        print(norm)\n",
    "    \n",
    "    plt.plot(range(i+1),norm_list)\n",
    "    plt.show()\n",
    "    return w"
   ]
  },
  {
   "cell_type": "code",
   "execution_count": 217,
   "metadata": {},
   "outputs": [
    {
     "name": "stdout",
     "output_type": "stream",
     "text": [
      "1.4950280608255968\n",
      "1\n",
      "1.4950280608255968\n",
      "1\n"
     ]
    },
    {
     "ename": "KeyboardInterrupt",
     "evalue": "",
     "output_type": "error",
     "traceback": [
      "\u001b[1;31m---------------------------------------------------------------------------\u001b[0m",
      "\u001b[1;31mKeyboardInterrupt\u001b[0m                         Traceback (most recent call last)",
      "\u001b[1;32m<ipython-input-217-6e477972e4d8>\u001b[0m in \u001b[0;36m<module>\u001b[1;34m\u001b[0m\n\u001b[1;32m----> 1\u001b[1;33m \u001b[0mw\u001b[0m \u001b[1;33m=\u001b[0m \u001b[0mtaylor_proximal\u001b[0m\u001b[1;33m(\u001b[0m\u001b[0meX\u001b[0m\u001b[1;33m,\u001b[0m\u001b[0my\u001b[0m\u001b[1;33m,\u001b[0m\u001b[1;36m10\u001b[0m\u001b[1;33m**\u001b[0m\u001b[1;33m-\u001b[0m\u001b[1;36m10\u001b[0m\u001b[1;33m,\u001b[0m\u001b[0mnp\u001b[0m\u001b[1;33m.\u001b[0m\u001b[0mzeros\u001b[0m\u001b[1;33m(\u001b[0m\u001b[0meX\u001b[0m\u001b[1;33m.\u001b[0m\u001b[0mshape\u001b[0m\u001b[1;33m[\u001b[0m\u001b[1;36m1\u001b[0m\u001b[1;33m]\u001b[0m\u001b[1;33m)\u001b[0m\u001b[1;33m,\u001b[0m\u001b[1;36m10\u001b[0m\u001b[1;33m,\u001b[0m\u001b[1;36m0.5\u001b[0m\u001b[1;33m,\u001b[0m\u001b[1;36m0.02\u001b[0m\u001b[1;33m)\u001b[0m\u001b[1;33m\u001b[0m\u001b[1;33m\u001b[0m\u001b[0m\n\u001b[0m",
      "\u001b[1;32m<ipython-input-216-36413bb70157>\u001b[0m in \u001b[0;36mtaylor_proximal\u001b[1;34m(eX, y, epsilon, w, b, a, rho)\u001b[0m\n\u001b[0;32m     20\u001b[0m                 \u001b[1;31m#gamma = (b*a)**l\u001b[0m\u001b[1;33m\u001b[0m\u001b[1;33m\u001b[0m\u001b[1;33m\u001b[0m\u001b[0m\n\u001b[0;32m     21\u001b[0m                 \u001b[0mw_taylor\u001b[0m \u001b[1;33m=\u001b[0m \u001b[0mnp\u001b[0m\u001b[1;33m.\u001b[0m\u001b[0msign\u001b[0m\u001b[1;33m(\u001b[0m\u001b[0mw\u001b[0m\u001b[1;33m)\u001b[0m\u001b[1;33m*\u001b[0m\u001b[0mnp\u001b[0m\u001b[1;33m.\u001b[0m\u001b[0mmaximum\u001b[0m\u001b[1;33m(\u001b[0m\u001b[0mnp\u001b[0m\u001b[1;33m.\u001b[0m\u001b[0mabsolute\u001b[0m\u001b[1;33m(\u001b[0m\u001b[0mw\u001b[0m \u001b[1;33m-\u001b[0m \u001b[0mgamma\u001b[0m\u001b[1;33m*\u001b[0m\u001b[0mdf\u001b[0m\u001b[1;33m)\u001b[0m \u001b[1;33m-\u001b[0m \u001b[0mgamma\u001b[0m\u001b[1;33m*\u001b[0m\u001b[0mrho\u001b[0m\u001b[1;33m*\u001b[0m\u001b[0mnp\u001b[0m\u001b[1;33m.\u001b[0m\u001b[0mones\u001b[0m\u001b[1;33m(\u001b[0m\u001b[0meX\u001b[0m\u001b[1;33m.\u001b[0m\u001b[0mshape\u001b[0m\u001b[1;33m[\u001b[0m\u001b[1;36m1\u001b[0m\u001b[1;33m]\u001b[0m\u001b[1;33m)\u001b[0m\u001b[1;33m,\u001b[0m\u001b[0mnp\u001b[0m\u001b[1;33m.\u001b[0m\u001b[0mzeros\u001b[0m\u001b[1;33m(\u001b[0m\u001b[0meX\u001b[0m\u001b[1;33m.\u001b[0m\u001b[0mshape\u001b[0m\u001b[1;33m[\u001b[0m\u001b[1;36m1\u001b[0m\u001b[1;33m]\u001b[0m\u001b[1;33m)\u001b[0m\u001b[1;33m)\u001b[0m\u001b[1;33m\u001b[0m\u001b[1;33m\u001b[0m\u001b[0m\n\u001b[1;32m---> 22\u001b[1;33m                 \u001b[0mf_l\u001b[0m\u001b[1;33m,\u001b[0m\u001b[0mdf_l\u001b[0m\u001b[1;33m,\u001b[0m\u001b[0mdf2_l\u001b[0m \u001b[1;33m=\u001b[0m \u001b[0mlogistic_regression_loss2\u001b[0m\u001b[1;33m(\u001b[0m\u001b[0meX\u001b[0m\u001b[1;33m,\u001b[0m\u001b[0my\u001b[0m\u001b[1;33m,\u001b[0m\u001b[0mw_taylor\u001b[0m\u001b[1;33m)\u001b[0m\u001b[1;33m\u001b[0m\u001b[1;33m\u001b[0m\u001b[0m\n\u001b[0m\u001b[0;32m     23\u001b[0m                 \u001b[0mtaylor\u001b[0m \u001b[1;33m=\u001b[0m \u001b[0mf_l\u001b[0m \u001b[1;33m-\u001b[0m \u001b[0mf\u001b[0m\u001b[1;33m-\u001b[0m\u001b[0mnp\u001b[0m\u001b[1;33m.\u001b[0m\u001b[0mdot\u001b[0m\u001b[1;33m(\u001b[0m\u001b[0mdf\u001b[0m\u001b[1;33m,\u001b[0m\u001b[0mw_taylor\u001b[0m \u001b[1;33m-\u001b[0m \u001b[0mw\u001b[0m\u001b[1;33m)\u001b[0m \u001b[1;33m-\u001b[0m \u001b[1;36m1\u001b[0m\u001b[1;33m/\u001b[0m\u001b[1;36m2\u001b[0m\u001b[1;33m/\u001b[0m\u001b[0mgamma\u001b[0m\u001b[1;33m*\u001b[0m\u001b[0mnp\u001b[0m\u001b[1;33m.\u001b[0m\u001b[0mlinalg\u001b[0m\u001b[1;33m.\u001b[0m\u001b[0mnorm\u001b[0m\u001b[1;33m(\u001b[0m\u001b[0mw\u001b[0m \u001b[1;33m-\u001b[0m \u001b[0mw_taylor\u001b[0m\u001b[1;33m)\u001b[0m\u001b[1;33m**\u001b[0m\u001b[1;36m2\u001b[0m\u001b[1;33m\u001b[0m\u001b[1;33m\u001b[0m\u001b[0m\n\u001b[0;32m     24\u001b[0m             \u001b[1;32melse\u001b[0m\u001b[1;33m:\u001b[0m\u001b[1;33m\u001b[0m\u001b[1;33m\u001b[0m\u001b[0m\n",
      "\u001b[1;32m<ipython-input-68-b4a081050ab7>\u001b[0m in \u001b[0;36mlogistic_regression_loss2\u001b[1;34m(X, Y, w)\u001b[0m\n\u001b[0;32m     18\u001b[0m         \u001b[0mdf2_01\u001b[0m \u001b[1;33m+=\u001b[0m \u001b[0mnp\u001b[0m\u001b[1;33m.\u001b[0m\u001b[0mexp\u001b[0m\u001b[1;33m(\u001b[0m\u001b[1;33m-\u001b[0m\u001b[0mY\u001b[0m\u001b[1;33m[\u001b[0m\u001b[0mi\u001b[0m\u001b[1;33m]\u001b[0m\u001b[1;33m*\u001b[0m\u001b[0mX\u001b[0m\u001b[1;33m[\u001b[0m\u001b[0mi\u001b[0m\u001b[1;33m]\u001b[0m\u001b[1;33m.\u001b[0m\u001b[0mT\u001b[0m\u001b[1;33m@\u001b[0m\u001b[0mw\u001b[0m\u001b[1;33m)\u001b[0m \u001b[1;33m/\u001b[0m \u001b[0mabs\u001b[0m\u001b[1;33m(\u001b[0m\u001b[1;36m1\u001b[0m\u001b[1;33m+\u001b[0m\u001b[0mnp\u001b[0m\u001b[1;33m.\u001b[0m\u001b[0mexp\u001b[0m\u001b[1;33m(\u001b[0m\u001b[1;33m-\u001b[0m\u001b[0mY\u001b[0m\u001b[1;33m[\u001b[0m\u001b[0mi\u001b[0m\u001b[1;33m]\u001b[0m\u001b[1;33m*\u001b[0m\u001b[0mX\u001b[0m\u001b[1;33m[\u001b[0m\u001b[0mi\u001b[0m\u001b[1;33m]\u001b[0m\u001b[1;33m.\u001b[0m\u001b[0mT\u001b[0m\u001b[1;33m@\u001b[0m\u001b[0mw\u001b[0m\u001b[1;33m)\u001b[0m\u001b[1;33m)\u001b[0m\u001b[1;33m**\u001b[0m\u001b[1;36m2\u001b[0m \u001b[1;33m*\u001b[0m \u001b[0mxi\u001b[0m\u001b[1;33m\u001b[0m\u001b[1;33m\u001b[0m\u001b[0m\n\u001b[0;32m     19\u001b[0m         \u001b[0mdf2_10\u001b[0m \u001b[1;33m+=\u001b[0m \u001b[0mnp\u001b[0m\u001b[1;33m.\u001b[0m\u001b[0mexp\u001b[0m\u001b[1;33m(\u001b[0m\u001b[1;33m-\u001b[0m\u001b[0mY\u001b[0m\u001b[1;33m[\u001b[0m\u001b[0mi\u001b[0m\u001b[1;33m]\u001b[0m\u001b[1;33m*\u001b[0m\u001b[0mX\u001b[0m\u001b[1;33m[\u001b[0m\u001b[0mi\u001b[0m\u001b[1;33m]\u001b[0m\u001b[1;33m.\u001b[0m\u001b[0mT\u001b[0m\u001b[1;33m@\u001b[0m\u001b[0mw\u001b[0m\u001b[1;33m)\u001b[0m \u001b[1;33m/\u001b[0m \u001b[0mabs\u001b[0m\u001b[1;33m(\u001b[0m\u001b[1;36m1\u001b[0m\u001b[1;33m+\u001b[0m\u001b[0mnp\u001b[0m\u001b[1;33m.\u001b[0m\u001b[0mexp\u001b[0m\u001b[1;33m(\u001b[0m\u001b[1;33m-\u001b[0m\u001b[0mY\u001b[0m\u001b[1;33m[\u001b[0m\u001b[0mi\u001b[0m\u001b[1;33m]\u001b[0m\u001b[1;33m*\u001b[0m\u001b[0mX\u001b[0m\u001b[1;33m[\u001b[0m\u001b[0mi\u001b[0m\u001b[1;33m]\u001b[0m\u001b[1;33m.\u001b[0m\u001b[0mT\u001b[0m\u001b[1;33m@\u001b[0m\u001b[0mw\u001b[0m\u001b[1;33m)\u001b[0m\u001b[1;33m)\u001b[0m\u001b[1;33m**\u001b[0m\u001b[1;36m2\u001b[0m \u001b[1;33m*\u001b[0m \u001b[0mxi\u001b[0m\u001b[1;33m.\u001b[0m\u001b[0mT\u001b[0m\u001b[1;33m\u001b[0m\u001b[1;33m\u001b[0m\u001b[0m\n\u001b[1;32m---> 20\u001b[1;33m         \u001b[0mdf2_11\u001b[0m \u001b[1;33m+=\u001b[0m \u001b[0mnp\u001b[0m\u001b[1;33m.\u001b[0m\u001b[0mexp\u001b[0m\u001b[1;33m(\u001b[0m\u001b[1;33m-\u001b[0m\u001b[0mY\u001b[0m\u001b[1;33m[\u001b[0m\u001b[0mi\u001b[0m\u001b[1;33m]\u001b[0m\u001b[1;33m*\u001b[0m\u001b[0mX\u001b[0m\u001b[1;33m[\u001b[0m\u001b[0mi\u001b[0m\u001b[1;33m]\u001b[0m\u001b[1;33m.\u001b[0m\u001b[0mT\u001b[0m\u001b[1;33m@\u001b[0m\u001b[0mw\u001b[0m\u001b[1;33m)\u001b[0m \u001b[1;33m/\u001b[0m \u001b[0mabs\u001b[0m\u001b[1;33m(\u001b[0m\u001b[1;36m1\u001b[0m\u001b[1;33m+\u001b[0m\u001b[0mnp\u001b[0m\u001b[1;33m.\u001b[0m\u001b[0mexp\u001b[0m\u001b[1;33m(\u001b[0m\u001b[1;33m-\u001b[0m\u001b[0mY\u001b[0m\u001b[1;33m[\u001b[0m\u001b[0mi\u001b[0m\u001b[1;33m]\u001b[0m\u001b[1;33m*\u001b[0m\u001b[0mX\u001b[0m\u001b[1;33m[\u001b[0m\u001b[0mi\u001b[0m\u001b[1;33m]\u001b[0m\u001b[1;33m.\u001b[0m\u001b[0mT\u001b[0m\u001b[1;33m@\u001b[0m\u001b[0mw\u001b[0m\u001b[1;33m)\u001b[0m\u001b[1;33m)\u001b[0m\u001b[1;33m**\u001b[0m\u001b[1;36m2\u001b[0m \u001b[1;33m*\u001b[0m \u001b[0mxi\u001b[0m\u001b[1;33m@\u001b[0m\u001b[0mxi\u001b[0m\u001b[1;33m.\u001b[0m\u001b[0mT\u001b[0m\u001b[1;33m\u001b[0m\u001b[1;33m\u001b[0m\u001b[0m\n\u001b[0m\u001b[0;32m     21\u001b[0m \u001b[1;33m\u001b[0m\u001b[0m\n\u001b[0;32m     22\u001b[0m     \u001b[0mf\u001b[0m \u001b[1;33m=\u001b[0m \u001b[0mf\u001b[0m\u001b[1;33m/\u001b[0m\u001b[0mnumber\u001b[0m\u001b[1;33m\u001b[0m\u001b[1;33m\u001b[0m\u001b[0m\n",
      "\u001b[1;31mKeyboardInterrupt\u001b[0m: "
     ]
    }
   ],
   "source": [
    "w = taylor_proximal(eX,y,10**-10,np.zeros(eX.shape[1]),10,0.5,0.02)"
   ]
  },
  {
   "cell_type": "markdown",
   "metadata": {},
   "source": [
    "### Question 5"
   ]
  },
  {
   "cell_type": "code",
   "execution_count": 7,
   "metadata": {},
   "outputs": [],
   "source": [
    "def data_split(X,y,prob):\n",
    "    if prob < 1 and prob > 0:\n",
    "        train_len = int(X.shape[0]*prob)\n",
    "        X_train = X[:train_len]\n",
    "        y_train = y[:train_len]\n",
    "        X_valid = X[train_len:]\n",
    "        y_valid = y[train_len:]\n",
    "        return X_train,y_train,X_valid,y_valid\n",
    "    else:\n",
    "        return X,y,0,0\n",
    "X_train,y_train,X_valid,y_valid = data_split(eX,y,0.85)"
   ]
  },
  {
   "cell_type": "code",
   "execution_count": 138,
   "metadata": {
    "scrolled": true
   },
   "outputs": [
    {
     "name": "stdout",
     "output_type": "stream",
     "text": [
      "1.472854365255791\n",
      "0.19115329340066645\n",
      "0.01852318326033184\n",
      "0.00027398356085350843\n",
      "7.211006502742824e-08\n",
      "7.795626241580256e-15\n"
     ]
    },
    {
     "data": {
      "image/png": "[encoded data removed]",
      "text/plain": [
       "<Figure size 432x288 with 1 Axes>"
      ]
     },
     "metadata": {
      "needs_background": "light"
     },
     "output_type": "display_data"
    }
   ],
   "source": [
    "w = taylor_proximal(X_train,y_train,10**-10,np.zeros(eX.shape[1]),1,0.5,0.02)"
   ]
  },
  {
   "cell_type": "code",
   "execution_count": 198,
   "metadata": {},
   "outputs": [
    {
     "data": {
      "text/plain": [
       "0.656"
      ]
     },
     "execution_count": 198,
     "metadata": {},
     "output_type": "execute_result"
    }
   ],
   "source": []
  },
  {
   "cell_type": "code",
   "execution_count": 8,
   "metadata": {},
   "outputs": [],
   "source": [
    "def Loss_01 (X_valid,y_valid,w):\n",
    "    delta = np.sign(np.squeeze(X_valid@np.expand_dims(w,axis = 1))) == y_valid\n",
    "    delta = delta * np.ones(delta.shape)\n",
    "    loss = np.sum(delta)/X_valid.shape[0]\n",
    "    return loss"
   ]
  },
  {
   "cell_type": "code",
   "execution_count": 199,
   "metadata": {},
   "outputs": [],
   "source": [
    "def find_rho_L1(K,X_train,y_train,X_valid,y_valid):\n",
    "    rho_0 = 5\n",
    "    a = 0.5\n",
    "    K = 5\n",
    "    k_list = range(K)\n",
    "    loss_list = []\n",
    "    for k in k_list:\n",
    "        rho = rho_0*a**k\n",
    "        w = taylor_proximal(eX,y,10**-10,np.zeros(eX.shape[1]),1,0.5,rho)\n",
    "        loss = Loss_01(X_valid,y_valid,w)\n",
    "        loss_list.append(loss)\n",
    "    index = np.argmin(loss_list)\n",
    "    print(\"best rho = {}\".format(rho_0*a**k_list[index]))\n",
    "    print(\"loss = {}\".format(loss_list))\n",
    "    plt.plot(k_list,loss_list)\n",
    "    plt.show()\n",
    "    return rho_0*a**k_list[index]"
   ]
  },
  {
   "cell_type": "code",
   "execution_count": 200,
   "metadata": {},
   "outputs": [
    {
     "name": "stdout",
     "output_type": "stream",
     "text": [
      "1.4950280608255968\n",
      "0.1897413568153114\n",
      "0.0176250984303564\n",
      "0.00024453236197755903\n",
      "5.680792121357792e-08\n",
      "5.194710276812563e-15\n"
     ]
    },
    {
     "data": {
      "image/png": "[encoded data removed]",
      "text/plain": [
       "<Figure size 432x288 with 1 Axes>"
      ]
     },
     "metadata": {
      "needs_background": "light"
     },
     "output_type": "display_data"
    },
    {
     "name": "stdout",
     "output_type": "stream",
     "text": [
      "1.4950280608255968\n",
      "0.1897413568153114\n",
      "0.0176250984303564\n",
      "0.00024453236197755903\n",
      "5.680792121357792e-08\n",
      "5.194710276812563e-15\n"
     ]
    },
    {
     "data": {
      "image/png": "[encoded data removed]",
      "text/plain": [
       "<Figure size 432x288 with 1 Axes>"
      ]
     },
     "metadata": {
      "needs_background": "light"
     },
     "output_type": "display_data"
    },
    {
     "name": "stdout",
     "output_type": "stream",
     "text": [
      "1.4950280608255968\n",
      "0.1897413568153114\n",
      "0.0176250984303564\n",
      "0.00024453236197755903\n",
      "5.680792121357792e-08\n",
      "5.194710276812563e-15\n"
     ]
    },
    {
     "data": {
      "image/png": "[encoded data removed]",
      "text/plain": [
       "<Figure size 432x288 with 1 Axes>"
      ]
     },
     "metadata": {
      "needs_background": "light"
     },
     "output_type": "display_data"
    },
    {
     "name": "stdout",
     "output_type": "stream",
     "text": [
      "1.4950280608255968\n",
      "0.1897413568153114\n",
      "0.0176250984303564\n",
      "0.00024453236197755903\n",
      "5.680792121357792e-08\n",
      "5.194710276812563e-15\n"
     ]
    },
    {
     "data": {
      "image/png": "[encoded data removed]",
      "text/plain": [
       "<Figure size 432x288 with 1 Axes>"
      ]
     },
     "metadata": {
      "needs_background": "light"
     },
     "output_type": "display_data"
    },
    {
     "name": "stdout",
     "output_type": "stream",
     "text": [
      "1.4950280608255968\n",
      "0.1897413568153114\n",
      "0.0176250984303564\n",
      "0.00024453236197755903\n",
      "5.680792121357792e-08\n",
      "5.194710276812563e-15\n"
     ]
    },
    {
     "data": {
      "image/png": "[encoded data removed]",
      "text/plain": [
       "<Figure size 432x288 with 1 Axes>"
      ]
     },
     "metadata": {
      "needs_background": "light"
     },
     "output_type": "display_data"
    },
    {
     "name": "stdout",
     "output_type": "stream",
     "text": [
      "best rho = 5.0\n",
      "loss = [0.718, 0.718, 0.718, 0.718, 0.718]\n"
     ]
    },
    {
     "data": {
      "image/png": "[encoded data removed]",
      "text/plain": [
       "<Figure size 432x288 with 1 Axes>"
      ]
     },
     "metadata": {
      "needs_background": "light"
     },
     "output_type": "display_data"
    }
   ],
   "source": [
    "rho_L1 = find_rho_L1(5,X_train,y_train,X_valid,y_valid)"
   ]
  },
  {
   "cell_type": "code",
   "execution_count": 5,
   "metadata": {},
   "outputs": [],
   "source": [
    "def logistic_regression_loss_L2(X,Y,w,rho): #X = tilde x, W = tilde w\n",
    "    number = X.shape[0]\n",
    "    #print(X.shape[0],X.shape[1])\n",
    "    f = 0\n",
    "    df_w0 = 0\n",
    "    df_w=0\n",
    "    df2_00=0\n",
    "    df2_01=0\n",
    "    df2_11=0\n",
    "    df2_10 = 0\n",
    "    df2 = np.zeros((X.shape[1],X.shape[1]))\n",
    "    for i in range(number):\n",
    "        xi = np.expand_dims(X[i][1:],axis = 1)\n",
    "        f += np.log(1 + np.exp(-Y[i]*(X[i].T@w)))\n",
    "        df_w0 += -Y[i]*np.exp(-Y[i]*X[i].T@w) / (1 + np.exp(-Y[i]*X[i].T@w))\n",
    "        df_w += -Y[i]*np.exp(-Y[i]*X[i].T@w) / (1 + np.exp(-Y[i]*X[i].T@w)) * X[i][1:]\n",
    "        df2_00 += np.exp(-Y[i]*X[i].T@w) / abs(1+np.exp(-Y[i]*X[i].T@w))**2\n",
    "        df2_01 += np.exp(-Y[i]*X[i].T@w) / abs(1+np.exp(-Y[i]*X[i].T@w))**2 * xi\n",
    "        df2_10 += np.exp(-Y[i]*X[i].T@w) / abs(1+np.exp(-Y[i]*X[i].T@w))**2 * xi.T\n",
    "        df2_11 += np.exp(-Y[i]*X[i].T@w) / abs(1+np.exp(-Y[i]*X[i].T@w))**2 * xi@xi.T\n",
    "        \n",
    "    f = f/number + rho/2 * w[1:]@w[1:]\n",
    "    df_w = df_w + rho*w[1:]\n",
    "    #print(df_w.shape)\n",
    "    df = np.zeros(X.shape[1]) \n",
    "    df[0]= df_w0/number\n",
    "    df[1:] =np.squeeze(df_w/number)\n",
    "    \n",
    "    df2[0,0] = df2_00/number\n",
    "    df2[0,1:] = np.squeeze(df2_01/number)\n",
    "    df2[1:,0]=np.squeeze(df2_10/number)\n",
    "    df2[1:,1:] = df2_11/number\n",
    "    for i in range(1,X.shape[1]):\n",
    "        df2[i,i] += rho\n",
    "    return f,df,df2\n",
    "\n",
    "\n",
    "def newton_L2(eX,y,epsilon,w_init,rho):\n",
    "    norm_list = []\n",
    "    i = 0\n",
    "    w = w_init\n",
    "    f,df,df2 = logistic_regression_loss_L2(eX,y,w,rho)\n",
    "    #print(np.linalg.norm(df,ord = 2))\n",
    "    while np.linalg.norm(df,ord = 2) >= epsilon:\n",
    "        norm = np.linalg.norm(df,ord=2)\n",
    "        norm_list.append(norm)\n",
    "        i = i+1\n",
    "        w = w - np.linalg.inv(df2)@df\n",
    "        f,df,df2 = logistic_regression_loss_L2(eX,y,w,rho)\n",
    "        #print(norm)\n",
    "    \n",
    "    #plt.plot(range(i),norm_list)\n",
    "    #plt.show()\n",
    "    return w,norm_list\n",
    "\n",
    "def find_rho_L2(K,X_train,y_train,X_valid,y_valid):\n",
    "    rho_0 = 5\n",
    "    a = 0.5\n",
    "    K = 5\n",
    "    k_list = range(K)\n",
    "    loss_list = []\n",
    "    for k in k_list:\n",
    "        rho = rho_0*a**k\n",
    "        w =  newton_L2(eX,y,10**-10,np.zeros(eX.shape[1]),rho)\n",
    "        loss = Loss_01(X_valid,y_valid,w)\n",
    "        loss_list.append(loss)\n",
    "    index = np.argmin(loss_list)\n",
    "    print(\"best rho = {}\".format(rho_0*a**k_list[index]))\n",
    "    print(\"loss = {}\".format(loss_list))\n",
    "    plt.plot(k_list,loss_list)\n",
    "    plt.show()\n",
    "    return rho_0*a**k_list[index]"
   ]
  },
  {
   "cell_type": "code",
   "execution_count": 9,
   "metadata": {},
   "outputs": [
    {
     "ename": "KeyboardInterrupt",
     "evalue": "",
     "output_type": "error",
     "traceback": [
      "\u001b[1;31m---------------------------------------------------------------------------\u001b[0m",
      "\u001b[1;31mKeyboardInterrupt\u001b[0m                         Traceback (most recent call last)",
      "\u001b[1;32m<ipython-input-9-06c212c8e7dd>\u001b[0m in \u001b[0;36m<module>\u001b[1;34m\u001b[0m\n\u001b[1;32m----> 1\u001b[1;33m \u001b[0mfind_rho_L2\u001b[0m\u001b[1;33m(\u001b[0m\u001b[1;36m5\u001b[0m\u001b[1;33m,\u001b[0m\u001b[0mX_train\u001b[0m\u001b[1;33m,\u001b[0m\u001b[0my_train\u001b[0m\u001b[1;33m,\u001b[0m\u001b[0mX_valid\u001b[0m\u001b[1;33m,\u001b[0m\u001b[0my_valid\u001b[0m\u001b[1;33m)\u001b[0m\u001b[1;33m\u001b[0m\u001b[1;33m\u001b[0m\u001b[0m\n\u001b[0m",
      "\u001b[1;32m<ipython-input-5-5dafe735ee8b>\u001b[0m in \u001b[0;36mfind_rho_L2\u001b[1;34m(K, X_train, y_train, X_valid, y_valid)\u001b[0m\n\u001b[0;32m     62\u001b[0m     \u001b[1;32mfor\u001b[0m \u001b[0mk\u001b[0m \u001b[1;32min\u001b[0m \u001b[0mk_list\u001b[0m\u001b[1;33m:\u001b[0m\u001b[1;33m\u001b[0m\u001b[1;33m\u001b[0m\u001b[0m\n\u001b[0;32m     63\u001b[0m         \u001b[0mrho\u001b[0m \u001b[1;33m=\u001b[0m \u001b[0mrho_0\u001b[0m\u001b[1;33m*\u001b[0m\u001b[0ma\u001b[0m\u001b[1;33m**\u001b[0m\u001b[0mk\u001b[0m\u001b[1;33m\u001b[0m\u001b[1;33m\u001b[0m\u001b[0m\n\u001b[1;32m---> 64\u001b[1;33m         \u001b[0mw\u001b[0m \u001b[1;33m=\u001b[0m  \u001b[0mnewton_L2\u001b[0m\u001b[1;33m(\u001b[0m\u001b[0meX\u001b[0m\u001b[1;33m,\u001b[0m\u001b[0my\u001b[0m\u001b[1;33m,\u001b[0m\u001b[1;36m10\u001b[0m\u001b[1;33m**\u001b[0m\u001b[1;33m-\u001b[0m\u001b[1;36m10\u001b[0m\u001b[1;33m,\u001b[0m\u001b[0mnp\u001b[0m\u001b[1;33m.\u001b[0m\u001b[0mzeros\u001b[0m\u001b[1;33m(\u001b[0m\u001b[0meX\u001b[0m\u001b[1;33m.\u001b[0m\u001b[0mshape\u001b[0m\u001b[1;33m[\u001b[0m\u001b[1;36m1\u001b[0m\u001b[1;33m]\u001b[0m\u001b[1;33m)\u001b[0m\u001b[1;33m,\u001b[0m\u001b[0mrho\u001b[0m\u001b[1;33m)\u001b[0m\u001b[1;33m\u001b[0m\u001b[1;33m\u001b[0m\u001b[0m\n\u001b[0m\u001b[0;32m     65\u001b[0m         \u001b[0mloss\u001b[0m \u001b[1;33m=\u001b[0m \u001b[0mLoss_01\u001b[0m\u001b[1;33m(\u001b[0m\u001b[0mX_valid\u001b[0m\u001b[1;33m,\u001b[0m\u001b[0my_valid\u001b[0m\u001b[1;33m,\u001b[0m\u001b[0mw\u001b[0m\u001b[1;33m)\u001b[0m\u001b[1;33m\u001b[0m\u001b[1;33m\u001b[0m\u001b[0m\n\u001b[0;32m     66\u001b[0m         \u001b[0mloss_list\u001b[0m\u001b[1;33m.\u001b[0m\u001b[0mappend\u001b[0m\u001b[1;33m(\u001b[0m\u001b[0mloss\u001b[0m\u001b[1;33m)\u001b[0m\u001b[1;33m\u001b[0m\u001b[1;33m\u001b[0m\u001b[0m\n",
      "\u001b[1;32m<ipython-input-5-5dafe735ee8b>\u001b[0m in \u001b[0;36mnewton_L2\u001b[1;34m(eX, y, epsilon, w_init, rho)\u001b[0m\n\u001b[0;32m     47\u001b[0m         \u001b[0mi\u001b[0m \u001b[1;33m=\u001b[0m \u001b[0mi\u001b[0m\u001b[1;33m+\u001b[0m\u001b[1;36m1\u001b[0m\u001b[1;33m\u001b[0m\u001b[1;33m\u001b[0m\u001b[0m\n\u001b[0;32m     48\u001b[0m         \u001b[0mw\u001b[0m \u001b[1;33m=\u001b[0m \u001b[0mw\u001b[0m \u001b[1;33m-\u001b[0m \u001b[0mnp\u001b[0m\u001b[1;33m.\u001b[0m\u001b[0mlinalg\u001b[0m\u001b[1;33m.\u001b[0m\u001b[0minv\u001b[0m\u001b[1;33m(\u001b[0m\u001b[0mdf2\u001b[0m\u001b[1;33m)\u001b[0m\u001b[1;33m@\u001b[0m\u001b[0mdf\u001b[0m\u001b[1;33m\u001b[0m\u001b[1;33m\u001b[0m\u001b[0m\n\u001b[1;32m---> 49\u001b[1;33m         \u001b[0mf\u001b[0m\u001b[1;33m,\u001b[0m\u001b[0mdf\u001b[0m\u001b[1;33m,\u001b[0m\u001b[0mdf2\u001b[0m \u001b[1;33m=\u001b[0m \u001b[0mlogistic_regression_loss_L2\u001b[0m\u001b[1;33m(\u001b[0m\u001b[0meX\u001b[0m\u001b[1;33m,\u001b[0m\u001b[0my\u001b[0m\u001b[1;33m,\u001b[0m\u001b[0mw\u001b[0m\u001b[1;33m,\u001b[0m\u001b[0mrho\u001b[0m\u001b[1;33m)\u001b[0m\u001b[1;33m\u001b[0m\u001b[1;33m\u001b[0m\u001b[0m\n\u001b[0m\u001b[0;32m     50\u001b[0m         \u001b[1;31m#print(norm)\u001b[0m\u001b[1;33m\u001b[0m\u001b[1;33m\u001b[0m\u001b[1;33m\u001b[0m\u001b[0m\n\u001b[0;32m     51\u001b[0m \u001b[1;33m\u001b[0m\u001b[0m\n",
      "\u001b[1;32m<ipython-input-5-5dafe735ee8b>\u001b[0m in \u001b[0;36mlogistic_regression_loss_L2\u001b[1;34m(X, Y, w, rho)\u001b[0m\n\u001b[0;32m     18\u001b[0m         \u001b[0mdf2_01\u001b[0m \u001b[1;33m+=\u001b[0m \u001b[0mnp\u001b[0m\u001b[1;33m.\u001b[0m\u001b[0mexp\u001b[0m\u001b[1;33m(\u001b[0m\u001b[1;33m-\u001b[0m\u001b[0mY\u001b[0m\u001b[1;33m[\u001b[0m\u001b[0mi\u001b[0m\u001b[1;33m]\u001b[0m\u001b[1;33m*\u001b[0m\u001b[0mX\u001b[0m\u001b[1;33m[\u001b[0m\u001b[0mi\u001b[0m\u001b[1;33m]\u001b[0m\u001b[1;33m.\u001b[0m\u001b[0mT\u001b[0m\u001b[1;33m@\u001b[0m\u001b[0mw\u001b[0m\u001b[1;33m)\u001b[0m \u001b[1;33m/\u001b[0m \u001b[0mabs\u001b[0m\u001b[1;33m(\u001b[0m\u001b[1;36m1\u001b[0m\u001b[1;33m+\u001b[0m\u001b[0mnp\u001b[0m\u001b[1;33m.\u001b[0m\u001b[0mexp\u001b[0m\u001b[1;33m(\u001b[0m\u001b[1;33m-\u001b[0m\u001b[0mY\u001b[0m\u001b[1;33m[\u001b[0m\u001b[0mi\u001b[0m\u001b[1;33m]\u001b[0m\u001b[1;33m*\u001b[0m\u001b[0mX\u001b[0m\u001b[1;33m[\u001b[0m\u001b[0mi\u001b[0m\u001b[1;33m]\u001b[0m\u001b[1;33m.\u001b[0m\u001b[0mT\u001b[0m\u001b[1;33m@\u001b[0m\u001b[0mw\u001b[0m\u001b[1;33m)\u001b[0m\u001b[1;33m)\u001b[0m\u001b[1;33m**\u001b[0m\u001b[1;36m2\u001b[0m \u001b[1;33m*\u001b[0m \u001b[0mxi\u001b[0m\u001b[1;33m\u001b[0m\u001b[1;33m\u001b[0m\u001b[0m\n\u001b[0;32m     19\u001b[0m         \u001b[0mdf2_10\u001b[0m \u001b[1;33m+=\u001b[0m \u001b[0mnp\u001b[0m\u001b[1;33m.\u001b[0m\u001b[0mexp\u001b[0m\u001b[1;33m(\u001b[0m\u001b[1;33m-\u001b[0m\u001b[0mY\u001b[0m\u001b[1;33m[\u001b[0m\u001b[0mi\u001b[0m\u001b[1;33m]\u001b[0m\u001b[1;33m*\u001b[0m\u001b[0mX\u001b[0m\u001b[1;33m[\u001b[0m\u001b[0mi\u001b[0m\u001b[1;33m]\u001b[0m\u001b[1;33m.\u001b[0m\u001b[0mT\u001b[0m\u001b[1;33m@\u001b[0m\u001b[0mw\u001b[0m\u001b[1;33m)\u001b[0m \u001b[1;33m/\u001b[0m \u001b[0mabs\u001b[0m\u001b[1;33m(\u001b[0m\u001b[1;36m1\u001b[0m\u001b[1;33m+\u001b[0m\u001b[0mnp\u001b[0m\u001b[1;33m.\u001b[0m\u001b[0mexp\u001b[0m\u001b[1;33m(\u001b[0m\u001b[1;33m-\u001b[0m\u001b[0mY\u001b[0m\u001b[1;33m[\u001b[0m\u001b[0mi\u001b[0m\u001b[1;33m]\u001b[0m\u001b[1;33m*\u001b[0m\u001b[0mX\u001b[0m\u001b[1;33m[\u001b[0m\u001b[0mi\u001b[0m\u001b[1;33m]\u001b[0m\u001b[1;33m.\u001b[0m\u001b[0mT\u001b[0m\u001b[1;33m@\u001b[0m\u001b[0mw\u001b[0m\u001b[1;33m)\u001b[0m\u001b[1;33m)\u001b[0m\u001b[1;33m**\u001b[0m\u001b[1;36m2\u001b[0m \u001b[1;33m*\u001b[0m \u001b[0mxi\u001b[0m\u001b[1;33m.\u001b[0m\u001b[0mT\u001b[0m\u001b[1;33m\u001b[0m\u001b[1;33m\u001b[0m\u001b[0m\n\u001b[1;32m---> 20\u001b[1;33m         \u001b[0mdf2_11\u001b[0m \u001b[1;33m+=\u001b[0m \u001b[0mnp\u001b[0m\u001b[1;33m.\u001b[0m\u001b[0mexp\u001b[0m\u001b[1;33m(\u001b[0m\u001b[1;33m-\u001b[0m\u001b[0mY\u001b[0m\u001b[1;33m[\u001b[0m\u001b[0mi\u001b[0m\u001b[1;33m]\u001b[0m\u001b[1;33m*\u001b[0m\u001b[0mX\u001b[0m\u001b[1;33m[\u001b[0m\u001b[0mi\u001b[0m\u001b[1;33m]\u001b[0m\u001b[1;33m.\u001b[0m\u001b[0mT\u001b[0m\u001b[1;33m@\u001b[0m\u001b[0mw\u001b[0m\u001b[1;33m)\u001b[0m \u001b[1;33m/\u001b[0m \u001b[0mabs\u001b[0m\u001b[1;33m(\u001b[0m\u001b[1;36m1\u001b[0m\u001b[1;33m+\u001b[0m\u001b[0mnp\u001b[0m\u001b[1;33m.\u001b[0m\u001b[0mexp\u001b[0m\u001b[1;33m(\u001b[0m\u001b[1;33m-\u001b[0m\u001b[0mY\u001b[0m\u001b[1;33m[\u001b[0m\u001b[0mi\u001b[0m\u001b[1;33m]\u001b[0m\u001b[1;33m*\u001b[0m\u001b[0mX\u001b[0m\u001b[1;33m[\u001b[0m\u001b[0mi\u001b[0m\u001b[1;33m]\u001b[0m\u001b[1;33m.\u001b[0m\u001b[0mT\u001b[0m\u001b[1;33m@\u001b[0m\u001b[0mw\u001b[0m\u001b[1;33m)\u001b[0m\u001b[1;33m)\u001b[0m\u001b[1;33m**\u001b[0m\u001b[1;36m2\u001b[0m \u001b[1;33m*\u001b[0m \u001b[0mxi\u001b[0m\u001b[1;33m@\u001b[0m\u001b[0mxi\u001b[0m\u001b[1;33m.\u001b[0m\u001b[0mT\u001b[0m\u001b[1;33m\u001b[0m\u001b[1;33m\u001b[0m\u001b[0m\n\u001b[0m\u001b[0;32m     21\u001b[0m \u001b[1;33m\u001b[0m\u001b[0m\n\u001b[0;32m     22\u001b[0m     \u001b[0mf\u001b[0m \u001b[1;33m=\u001b[0m \u001b[0mf\u001b[0m\u001b[1;33m/\u001b[0m\u001b[0mnumber\u001b[0m \u001b[1;33m+\u001b[0m \u001b[0mrho\u001b[0m\u001b[1;33m/\u001b[0m\u001b[1;36m2\u001b[0m \u001b[1;33m*\u001b[0m \u001b[0mw\u001b[0m\u001b[1;33m[\u001b[0m\u001b[1;36m1\u001b[0m\u001b[1;33m:\u001b[0m\u001b[1;33m]\u001b[0m\u001b[1;33m@\u001b[0m\u001b[0mw\u001b[0m\u001b[1;33m[\u001b[0m\u001b[1;36m1\u001b[0m\u001b[1;33m:\u001b[0m\u001b[1;33m]\u001b[0m\u001b[1;33m\u001b[0m\u001b[1;33m\u001b[0m\u001b[0m\n",
      "\u001b[1;31mKeyboardInterrupt\u001b[0m: "
     ]
    }
   ],
   "source": [
    "find_rho_L2(5,X_train,y_train,X_valid,y_valid)"
   ]
  },
  {
   "cell_type": "markdown",
   "metadata": {},
   "source": [
    "### Question 6.1"
   ]
  },
  {
   "cell_type": "markdown",
   "metadata": {},
   "source": [
    "The difference of the two optimization problems is the regularization term, where method 1 utilise $L_2$ norm and method 2 utilise $L_1$ norm. \n",
    "\n",
    "$L_1$ regularization causes the parameter value to become 0, but $L_2$ only decreases the value of parameters."
   ]
  },
  {
   "cell_type": "markdown",
   "metadata": {},
   "source": []
  },
  {
   "cell_type": "code",
   "execution_count": null,
   "metadata": {},
   "outputs": [],
   "source": []
  },
  {
   "cell_type": "markdown",
   "metadata": {},
   "source": [
    "### Question 6.2"
   ]
  },
  {
   "cell_type": "code",
   "execution_count": 14,
   "metadata": {},
   "outputs": [],
   "source": [
    "def confusion_matrix (X_valid, y_valid, w):\n",
    "    TP=0\n",
    "    FP=0\n",
    "    FN=0\n",
    "    TN=0\n",
    "    for i in range(X_valid.shape[0]):\n",
    "        if np.sign(X_valid[i]@w) == y_valid[i]:\n",
    "            if y_valid[i] == 1:\n",
    "                TP = TP+1\n",
    "            else:\n",
    "                TN = TN+1\n",
    "        else:\n",
    "            if y_valid[i] == 1:\n",
    "                FP = TP+1\n",
    "            else:\n",
    "                FN = TN+1\n",
    "    confusion_matrix = np.zeros((2,2))\n",
    "    confusion_matrix[0,0] = TP\n",
    "    confusion_matrix[0,1] = FP\n",
    "    confusion_matrix[1,0] = FN\n",
    "    confusion_matrix[1,1] = TN\n",
    "    return confusion_matrix"
   ]
  },
  {
   "cell_type": "code",
   "execution_count": null,
   "metadata": {},
   "outputs": [],
   "source": []
  }
 ],
 "metadata": {
  "kernelspec": {
   "display_name": "Python 3",
   "language": "python",
   "name": "python3"
  },
  "language_info": {
   "codemirror_mode": {
    "name": "ipython",
    "version": 3
   },
   "file_extension": ".py",
   "mimetype": "text/x-python",
   "name": "python",
   "nbconvert_exporter": "python",
   "pygments_lexer": "ipython3",
   "version": "3.8.6"
  }
 },
 "nbformat": 4,
 "nbformat_minor": 4
}
